{
 "cells": [
  {
   "cell_type": "code",
   "execution_count": 1,
   "metadata": {},
   "outputs": [
    {
     "name": "stdout",
     "output_type": "stream",
     "text": [
      "1855\t118\n",
      "\n",
      "1856\t151\n",
      "\n",
      "1857\t121\n",
      "\n",
      "1858\t96\n",
      "\n",
      "1859\t110\n",
      "\n",
      "1860\t117\n",
      "\n",
      "1861\t132\n",
      "\n",
      "1862\t104\n",
      "\n",
      "1863\t125\n",
      "\n",
      "1864\t118\n",
      "\n",
      "1865\t125\n",
      "\n",
      "1866\t123\n",
      "\n",
      "1867\t110\n",
      "\n",
      "1868\t127\n",
      "\n",
      "1869\t131\n",
      "\n",
      "1870\t99\n",
      "\n",
      "1871\t126\n",
      "\n",
      "1872\t144\n",
      "\n",
      "1873\t136\n",
      "\n",
      "1874\t126\n",
      "\n",
      "1875\t91\n",
      "\n",
      "1876\t130\n",
      "\n",
      "1877\t62\n",
      "\n",
      "1878\t112\n",
      "\n",
      "1879\t99\n",
      "\n",
      "1880\t161\n",
      "\n",
      "1881\t78\n",
      "\n",
      "1882\t124\n",
      "\n",
      "1883\t119\n",
      "\n",
      "1884\t124\n",
      "\n",
      "1885\t128\n",
      "\n",
      "1886\t131\n",
      "\n",
      "1887\t113\n",
      "\n",
      "1888\t88\n",
      "\n",
      "1889\t75\n",
      "\n",
      "1890\t111\n",
      "\n",
      "1891\t97\n",
      "\n",
      "1892\t112\n",
      "\n",
      "1893\t101\n",
      "\n",
      "1894\t101\n",
      "\n",
      "1895\t91\n",
      "\n",
      "1896\t110\n",
      "\n",
      "1897\t100\n",
      "\n",
      "1898\t130\n",
      "\n",
      "1899\t111\n",
      "\n",
      "1900\t107\n",
      "\n",
      "1901\t105\n",
      "\n",
      "1902\t89\n",
      "\n",
      "1903\t126\n",
      "\n",
      "1904\t108\n",
      "\n",
      "1905\t97\n",
      "\n",
      "1906\t94\n",
      "\n",
      "1907\t83\n",
      "\n",
      "1908\t106\n",
      "\n",
      "1909\t98\n",
      "\n",
      "1910\t101\n",
      "\n",
      "1911\t108\n",
      "\n",
      "1912\t99\n",
      "\n",
      "1913\t88\n",
      "\n",
      "1914\t115\n",
      "\n",
      "1915\t102\n",
      "\n",
      "1916\t116\n",
      "\n",
      "1917\t115\n",
      "\n",
      "1918\t82\n",
      "\n",
      "1919\t110\n",
      "\n",
      "1920\t81\n",
      "\n",
      "1921\t96\n",
      "\n",
      "1922\t125\n",
      "\n",
      "1923\t104\n",
      "\n",
      "1924\t105\n",
      "\n",
      "1925\t124\n",
      "\n",
      "1926\t103\n",
      "\n",
      "1927\t106\n",
      "\n",
      "1928\t96\n",
      "\n",
      "1929\t107\n",
      "\n",
      "1930\t98\n",
      "\n",
      "1931\t65\n",
      "\n",
      "1932\t115\n",
      "\n",
      "1933\t91\n",
      "\n",
      "1934\t94\n",
      "\n",
      "1935\t101\n",
      "\n",
      "1936\t121\n",
      "\n",
      "1937\t105\n",
      "\n",
      "1938\t97\n",
      "\n",
      "1939\t105\n",
      "\n",
      "1940\t96\n",
      "\n",
      "1941\t82\n",
      "\n",
      "1942\t116\n",
      "\n",
      "1943\t114\n",
      "\n",
      "1944\t92\n",
      "\n",
      "1945\t98\n",
      "\n",
      "1946\t101\n",
      "\n",
      "1947\t104\n",
      "\n",
      "1948\t96\n",
      "\n",
      "1949\t109\n",
      "\n",
      "1950\t122\n",
      "\n",
      "1951\t114\n",
      "\n",
      "1952\t81\n",
      "\n",
      "1953\t85\n",
      "\n",
      "1954\t92\n",
      "\n",
      "1955\t114\n",
      "\n",
      "1956\t111\n",
      "\n",
      "1957\t95\n",
      "\n",
      "1958\t126\n",
      "\n",
      "1959\t105\n",
      "\n",
      "1960\t108\n",
      "\n",
      "1961\t117\n",
      "\n",
      "1962\t112\n",
      "\n",
      "1963\t113\n",
      "\n",
      "1964\t120\n",
      "\n",
      "1965\t65\n",
      "\n",
      "1966\t98\n",
      "\n",
      "1967\t91\n",
      "\n",
      "1968\t108\n",
      "\n",
      "1969\t113\n",
      "\n",
      "1970\t110\n",
      "\n",
      "1971\t105\n",
      "\n",
      "1972\t97\n",
      "\n",
      "1973\t105\n",
      "\n",
      "1974\t107\n",
      "\n",
      "1975\t88\n",
      "\n",
      "1976\t115\n",
      "\n",
      "1977\t123\n",
      "\n",
      "1978\t118\n",
      "\n",
      "1979\t99\n",
      "\n",
      "1980\t93\n",
      "\n",
      "1981\t96\n",
      "\n",
      "1982\t54\n",
      "\n",
      "1983\t111\n",
      "\n",
      "1984\t85\n",
      "\n",
      "1985\t107\n",
      "\n",
      "1986\t89\n",
      "\n",
      "1987\t87\n",
      "\n",
      "1988\t97\n",
      "\n",
      "1989\t93\n",
      "\n",
      "1990\t88\n",
      "\n",
      "1991\t99\n",
      "\n",
      "1992\t108\n",
      "\n",
      "1993\t94\n",
      "\n",
      "1994\t74\n",
      "\n",
      "1995\t119\n",
      "\n",
      "1996\t102\n",
      "\n",
      "1997\t47\n",
      "\n",
      "1998\t82\n",
      "\n",
      "1999\t53\n",
      "\n",
      "2000\t115\n",
      "\n",
      "2001\t21\n",
      "\n",
      "2002\t89\n",
      "\n",
      "2003\t80\n",
      "\n",
      "2004\t101\n",
      "\n",
      "2005\t95\n",
      "\n",
      "2006\t66\n",
      "\n",
      "2007\t106\n",
      "\n",
      "2008\t97\n",
      "\n",
      "2009\t87\n",
      "\n",
      "2010\t109\n",
      "\n",
      "2011\t57\n",
      "\n",
      "2012\t87\n",
      "\n",
      "2013\t117\n",
      "\n",
      "2014\t91\n",
      "\n",
      "2015\t62\n",
      "\n",
      "2016\t65\n",
      "\n",
      "2017\t94\n",
      "\n",
      "2018\t86\n",
      "\n"
     ]
    }
   ],
   "source": [
    "def convertFile(filename) :   \n",
    "    f = open(filename, 'r')\n",
    "    fout_name = \"data_\"+filename\n",
    "    fout = open(fout_name, 'w')\n",
    "    content = f.readlines()\n",
    "    #print(content)\n",
    "    for lines in content :\n",
    "        if lines.strip(\"\\n\") == '':\n",
    "            continue\n",
    "        lines = lines.split(\"\\t\")\n",
    "        print (lines[0].split(\"-\")[0]+ \"\\t\" + lines[1].strip(\"\\n\") + \"\\n\")\n",
    "        fout.write(lines[0].split(\"-\")[0]+ \"\\t\" + lines[1].strip(\"\\n\") + \"\\n\")\n",
    "    fout.close()\n",
    "    f.close()\n",
    "convertFile(\"mendota.txt\")"
   ]
  },
  {
   "cell_type": "code",
   "execution_count": 2,
   "metadata": {},
   "outputs": [
    {
     "name": "stdout",
     "output_type": "stream",
     "text": [
      "1855\t118\n",
      "\n",
      "1856\t151\n",
      "\n",
      "1857\t119\n",
      "\n",
      "1858\t94\n",
      "\n",
      "1859\t111\n",
      "\n",
      "1860\t129\n",
      "\n",
      "1861\t133\n",
      "\n",
      "1862\t119\n",
      "\n",
      "1863\t131\n",
      "\n",
      "1864\t117\n",
      "\n",
      "1865\t125\n",
      "\n",
      "1866\t128\n",
      "\n",
      "1867\t108\n",
      "\n",
      "1868\t126\n",
      "\n",
      "1869\t138\n",
      "\n",
      "1870\t100\n",
      "\n",
      "1871\t142\n",
      "\n",
      "1872\t141\n",
      "\n",
      "1873\t136\n",
      "\n",
      "1874\t123\n",
      "\n",
      "1875\t91\n",
      "\n",
      "1876\t132\n",
      "\n",
      "1877\t62\n",
      "\n",
      "1878\t115\n",
      "\n",
      "1879\t93\n",
      "\n",
      "1880\t160\n",
      "\n",
      "1881\t77\n",
      "\n",
      "1882\t127\n",
      "\n",
      "1883\t120\n",
      "\n",
      "1884\t121\n",
      "\n",
      "1885\t131\n",
      "\n",
      "1886\t131\n",
      "\n",
      "1887\t137\n",
      "\n",
      "1888\t87\n",
      "\n",
      "1889\t74\n",
      "\n",
      "1890\t113\n",
      "\n",
      "1891\t96\n",
      "\n",
      "1892\t117\n",
      "\n",
      "1893\t99\n",
      "\n",
      "1894\t104\n",
      "\n",
      "1895\t119\n",
      "\n",
      "1896\t123\n",
      "\n",
      "1897\t101\n",
      "\n",
      "1898\t129\n",
      "\n",
      "1899\t112\n",
      "\n",
      "1900\t118\n",
      "\n",
      "1901\t103\n",
      "\n",
      "1902\t85\n",
      "\n",
      "1903\t140\n",
      "\n",
      "1904\t111\n",
      "\n",
      "1905\t115\n",
      "\n",
      "1906\t106\n",
      "\n",
      "1907\t106\n",
      "\n",
      "1908\t118\n",
      "\n",
      "1909\t96\n",
      "\n",
      "1910\t103\n",
      "\n",
      "1911\t113\n",
      "\n",
      "1912\t104\n",
      "\n",
      "1913\t83\n",
      "\n",
      "1914\t115\n",
      "\n",
      "1915\t111\n",
      "\n",
      "1916\t116\n",
      "\n",
      "1917\t116\n",
      "\n",
      "1918\t83\n",
      "\n",
      "1919\t116\n",
      "\n",
      "1920\t85\n",
      "\n",
      "1921\t96\n",
      "\n",
      "1922\t127\n",
      "\n",
      "1923\t103\n",
      "\n",
      "1924\t103\n",
      "\n",
      "1925\t126\n",
      "\n",
      "1926\t102\n",
      "\n",
      "1927\t108\n",
      "\n",
      "1928\t96\n",
      "\n",
      "1929\t104\n",
      "\n",
      "1930\t98\n",
      "\n",
      "1931\t60\n",
      "\n",
      "1932\t107\n",
      "\n",
      "1933\t103\n",
      "\n",
      "1934\t98\n",
      "\n",
      "1935\t107\n",
      "\n",
      "1936\t123\n",
      "\n",
      "1937\t111\n",
      "\n",
      "1938\t102\n",
      "\n",
      "1939\t102\n",
      "\n",
      "1940\t127\n",
      "\n",
      "1941\t85\n",
      "\n",
      "1942\t114\n",
      "\n",
      "1943\t101\n",
      "\n",
      "1944\t89\n",
      "\n",
      "1945\t99\n",
      "\n",
      "1946\t108\n",
      "\n",
      "1947\t108\n",
      "\n",
      "1948\t92\n",
      "\n",
      "1949\t113\n",
      "\n",
      "1950\t118\n",
      "\n",
      "1951\t112\n",
      "\n",
      "1952\t93\n",
      "\n",
      "1953\t72\n",
      "\n",
      "1954\t83\n",
      "\n",
      "1955\t109\n",
      "\n",
      "1956\t92\n",
      "\n",
      "1957\t109\n",
      "\n",
      "1958\t125\n",
      "\n",
      "1959\t101\n",
      "\n",
      "1960\t98\n",
      "\n",
      "1961\t113\n",
      "\n",
      "1962\t112\n",
      "\n",
      "1963\t92\n",
      "\n",
      "1964\t114\n",
      "\n",
      "1965\t65\n",
      "\n",
      "1966\t88\n",
      "\n",
      "1967\t87\n",
      "\n",
      "1968\t101\n",
      "\n",
      "1969\t92\n",
      "\n",
      "1970\t93\n",
      "\n",
      "1971\t95\n",
      "\n",
      "1972\t90\n",
      "\n",
      "1973\t94\n",
      "\n",
      "1974\t95\n",
      "\n",
      "1975\t90\n",
      "\n",
      "1976\t103\n",
      "\n",
      "1977\t121\n",
      "\n",
      "1978\t117\n",
      "\n",
      "1979\t104\n",
      "\n",
      "1980\t86\n",
      "\n",
      "1981\t100\n",
      "\n",
      "1982\t56\n",
      "\n",
      "1983\t107\n",
      "\n",
      "1984\t92\n",
      "\n",
      "1985\t113\n",
      "\n",
      "1986\t85\n",
      "\n",
      "1987\t91\n",
      "\n",
      "1988\t93\n",
      "\n",
      "1989\t98\n",
      "\n",
      "1990\t88\n",
      "\n",
      "1991\t91\n",
      "\n",
      "1992\t108\n",
      "\n",
      "1993\t95\n",
      "\n",
      "1994\t74\n",
      "\n",
      "1995\t107\n",
      "\n",
      "1996\t96\n",
      "\n",
      "1997\t49\n",
      "\n",
      "1998\t70\n",
      "\n",
      "1999\t52\n",
      "\n",
      "2000\t108\n",
      "\n",
      "2001\t56\n",
      "\n",
      "2002\t83\n",
      "\n",
      "2003\t77\n",
      "\n",
      "2004\t97\n",
      "\n",
      "2005\t94\n",
      "\n",
      "2006\t67\n",
      "\n",
      "2007\t122\n",
      "\n",
      "2008\t104\n",
      "\n",
      "2009\t88\n",
      "\n",
      "2010\t112\n",
      "\n",
      "2011\t69\n",
      "\n",
      "2012\t101\n",
      "\n",
      "2013\t121\n",
      "\n",
      "2014\t105\n",
      "\n",
      "2015\t62\n",
      "\n",
      "2016\t81\n",
      "\n",
      "2017\t93\n",
      "\n",
      "2018\t97\n",
      "\n"
     ]
    }
   ],
   "source": [
    "convertFile(\"monona.txt\")"
   ]
  },
  {
   "cell_type": "code",
   "execution_count": 3,
   "metadata": {},
   "outputs": [],
   "source": [
    "import numpy as np\n",
    "import pandas as pd\n",
    "import matplotlib.pyplot as plt"
   ]
  },
  {
   "cell_type": "code",
   "execution_count": 4,
   "metadata": {},
   "outputs": [],
   "source": [
    "f = open(\"data_monona.csv\", 'r', encoding='utf-8')\n",
    "monona_days = []\n",
    "year = []\n",
    "\n",
    "content = f.readlines()\n",
    "#print(content)\n",
    "for lines in content :\n",
    "    if lines.strip(\"\\n\") == '':\n",
    "        pass\n",
    "    lines = lines.split(\"\\t\")\n",
    "    year.append(lines[0])\n",
    "    monona_days.append (lines[1].strip(\"\\n\"))\n",
    "f.close()"
   ]
  },
  {
   "cell_type": "code",
   "execution_count": 5,
   "metadata": {},
   "outputs": [],
   "source": [
    "f = open(\"data_mendota.csv\", 'r', encoding='utf-8')\n",
    "mendota_days = []\n",
    "\n",
    "content = f.readlines()\n",
    "#print(content)\n",
    "for lines in content :\n",
    "    if lines.strip(\"\\n\") == '':\n",
    "        pass\n",
    "    lines = lines.split(\"\\t\")\n",
    "    mendota_days.append (lines[1].strip(\"\\n\"))\n",
    "f.close()"
   ]
  },
  {
   "cell_type": "code",
   "execution_count": 128,
   "metadata": {},
   "outputs": [
    {
     "data": {
      "image/png": "[encoded data removed]",
      "text/plain": [
       "<matplotlib.figure.Figure at 0x7f74f02f9c88>"
      ]
     },
     "metadata": {
      "needs_background": "light"
     },
     "output_type": "display_data"
    }
   ],
   "source": [
    "diff= np.asarray(mendota_days, dtype = \"int\")- np.asarray(monona_days, dtype = \"int\")\n",
    "year = np.asarray(year, dtype = \"int\")\n",
    "plt.plot (year, np.asarray(mendota_days, dtype = \"int\") , label = \"mendota\")\n",
    "plt.plot (year, np.asarray(monona_days, dtype = \"int\"), label = \"monona\")\n",
    "plt.xlabel(\"year\")\n",
    "plt.ylabel(\"ice days\")\n",
    "\n",
    "plt.legend()\n",
    "plt.suptitle(\"ice days for the two lakes vs year\")\n",
    "plt.savefig('1_1.png')\n",
    "plt.show()"
   ]
  },
  {
   "cell_type": "code",
   "execution_count": 129,
   "metadata": {},
   "outputs": [
    {
     "data": {
      "image/png": "[encoded data removed]",
      "text/plain": [
       "<matplotlib.figure.Figure at 0x7f74f0522e48>"
      ]
     },
     "metadata": {
      "needs_background": "light"
     },
     "output_type": "display_data"
    }
   ],
   "source": [
    "diff= np.asarray(monona_days, dtype = \"int\") - np.asarray(mendota_days, dtype = \"int\")\n",
    "year = np.asarray(year, dtype = \"int\")\n",
    "plt.plot (year,diff )\n",
    "plt.xlabel(\"year\")\n",
    "plt.ylabel(\"ice days\")\n",
    "\n",
    "plt.suptitle(\"y_Monona − y_Mendota vs year\")\n",
    "plt.savefig('1_2.png')\n",
    "plt.show()"
   ]
  },
  {
   "cell_type": "code",
   "execution_count": 8,
   "metadata": {},
   "outputs": [],
   "source": [
    "mendota= np.asarray(mendota_days, dtype = \"int\")\n",
    "monona= np.asarray(monona_days, dtype = \"int\")"
   ]
  },
  {
   "cell_type": "code",
   "execution_count": null,
   "metadata": {},
   "outputs": [],
   "source": []
  },
  {
   "cell_type": "code",
   "execution_count": 85,
   "metadata": {},
   "outputs": [],
   "source": [
    "mendota_train = mendota[0:116]\n",
    "train_year = year[0:116] \n",
    "mendota_test = mendota[116 :]\n",
    "test_year = year[116 :]\n",
    "\n",
    "monona_train = monona[0:116]\n",
    "monona_test = monona[116 :]"
   ]
  },
  {
   "cell_type": "code",
   "execution_count": 78,
   "metadata": {},
   "outputs": [
    {
     "data": {
      "text/plain": [
       "(108.48275862068965, 18.122521543826256)"
      ]
     },
     "execution_count": 78,
     "metadata": {},
     "output_type": "execute_result"
    }
   ],
   "source": [
    "#2\n",
    "#compute the sample mean and the sample standard deviation\n",
    "mon_mean = np.mean(monona_train)\n",
    "mon_std = np.std(monona_train,ddof=1)\n",
    "mon_mean,mon_std "
   ]
  },
  {
   "cell_type": "code",
   "execution_count": 79,
   "metadata": {},
   "outputs": [
    {
     "data": {
      "text/plain": [
       "(107.1896551724138, 16.74666159754441)"
      ]
     },
     "execution_count": 79,
     "metadata": {},
     "output_type": "execute_result"
    }
   ],
   "source": [
    "#2\n",
    "#compute the sample mean and the sample standard deviation\n",
    "mend_mean = np.mean(mendota_train)\n",
    "mend_std = np.std(mendota_train, ddof=1)\n",
    "mend_mean,mend_std "
   ]
  },
  {
   "cell_type": "code",
   "execution_count": 80,
   "metadata": {},
   "outputs": [],
   "source": [
    "#3\n",
    "X_train_mendota = np.concatenate((np.ones(mendota_train.shape[0]).reshape(116,1), train_year.reshape(116,1), monona_train.reshape(116,1)), axis=1)"
   ]
  },
  {
   "cell_type": "code",
   "execution_count": 81,
   "metadata": {},
   "outputs": [
    {
     "data": {
      "text/plain": [
       "(116, 3)"
      ]
     },
     "execution_count": 81,
     "metadata": {},
     "output_type": "execute_result"
    }
   ],
   "source": [
    "X_train_mendota.shape"
   ]
  },
  {
   "cell_type": "code",
   "execution_count": 45,
   "metadata": {},
   "outputs": [
    {
     "data": {
      "text/plain": [
       "array([   1., 1855.,  118.])"
      ]
     },
     "execution_count": 45,
     "metadata": {},
     "output_type": "execute_result"
    }
   ],
   "source": [
    "X_train_mendota[0]"
   ]
  },
  {
   "cell_type": "code",
   "execution_count": 46,
   "metadata": {},
   "outputs": [],
   "source": [
    "np.set_printoptions(precision=8, suppress=True)"
   ]
  },
  {
   "cell_type": "code",
   "execution_count": 47,
   "metadata": {},
   "outputs": [
    {
     "name": "stderr",
     "output_type": "stream",
     "text": [
      "/u/a/b/abhayk/.local/lib/python3.6/site-packages/ipykernel_launcher.py:1: DeprecationWarning: Calling np.sum(generator) is deprecated, and in the future will give a different result. Use np.sum(np.fromiter(generator)) or the python sum builtin instead.\n",
      "  \"\"\"Entry point for launching an IPython kernel.\n"
     ]
    }
   ],
   "source": [
    "term1 = np.sum(np.matmul(X_train_mendota[i].transpose().reshape(3,1),  X_train_mendota[i].reshape(1,3)) for i in range(116))"
   ]
  },
  {
   "cell_type": "code",
   "execution_count": 48,
   "metadata": {},
   "outputs": [
    {
     "data": {
      "text/plain": [
       "array([[1.1600000e+02, 2.2185000e+05, 1.2584000e+04],\n",
       "       [2.2185000e+05, 4.2441819e+08, 2.4036780e+07],\n",
       "       [1.2584000e+04, 2.4036780e+07, 1.4029160e+06]])"
      ]
     },
     "execution_count": 48,
     "metadata": {},
     "output_type": "execute_result"
    }
   ],
   "source": [
    "term1"
   ]
  },
  {
   "cell_type": "code",
   "execution_count": 59,
   "metadata": {},
   "outputs": [
    {
     "name": "stderr",
     "output_type": "stream",
     "text": [
      "/u/a/b/abhayk/.local/lib/python3.6/site-packages/ipykernel_launcher.py:1: DeprecationWarning: Calling np.sum(generator) is deprecated, and in the future will give a different result. Use np.sum(np.fromiter(generator)) or the python sum builtin instead.\n",
      "  \"\"\"Entry point for launching an IPython kernel.\n"
     ]
    }
   ],
   "source": [
    "term2 = np.sum(np.dot(X_train_mendota[i].transpose().reshape(3,1), mendota_train[i]) for i in range(116))"
   ]
  },
  {
   "cell_type": "code",
   "execution_count": 58,
   "metadata": {},
   "outputs": [
    {
     "data": {
      "text/plain": [
       "array([[   118.],\n",
       "       [218890.],\n",
       "       [ 13924.]])"
      ]
     },
     "execution_count": 58,
     "metadata": {},
     "output_type": "execute_result"
    }
   ],
   "source": [
    "np.dot(X_train_mendota[0].transpose().reshape(3,1), mendota_train[0]"
   ]
  },
  {
   "cell_type": "code",
   "execution_count": 88,
   "metadata": {},
   "outputs": [
    {
     "data": {
      "text/plain": [
       "array([[-64.1827663 ],\n",
       "       [  0.04122457],\n",
       "       [  0.85295064]])"
      ]
     },
     "execution_count": 88,
     "metadata": {},
     "output_type": "execute_result"
    }
   ],
   "source": [
    "beta = np.matmul(np.linalg.inv(term1), term2)\n",
    "beta"
   ]
  },
  {
   "cell_type": "code",
   "execution_count": 20,
   "metadata": {},
   "outputs": [
    {
     "data": {
      "text/plain": [
       "(3,)"
      ]
     },
     "execution_count": 20,
     "metadata": {},
     "output_type": "execute_result"
    }
   ],
   "source": [
    "X_train_mendota[0].transpose().shape"
   ]
  },
  {
   "cell_type": "code",
   "execution_count": null,
   "metadata": {},
   "outputs": [],
   "source": [
    "np.matmul(X_train_mendota[0].transpose().reshape(3,1),  X_train_mendota[0].reshape(1,3))"
   ]
  },
  {
   "cell_type": "code",
   "execution_count": null,
   "metadata": {},
   "outputs": [],
   "source": [
    "#q4\n",
    "#124.264\n",
    "0.82165\n"
   ]
  },
  {
   "cell_type": "code",
   "execution_count": 67,
   "metadata": {},
   "outputs": [
    {
     "data": {
      "text/plain": [
       "(3,)"
      ]
     },
     "execution_count": 67,
     "metadata": {},
     "output_type": "execute_result"
    }
   ],
   "source": [
    "#q6\n",
    "b = np.array([0,0,0])\n",
    "b.shape"
   ]
  },
  {
   "cell_type": "code",
   "execution_count": null,
   "metadata": {},
   "outputs": [],
   "source": [
    "X_train_mendota[0][:].transpose().shape"
   ]
  },
  {
   "cell_type": "code",
   "execution_count": 68,
   "metadata": {
    "collapsed": true
   },
   "outputs": [
    {
     "data": {
      "text/plain": [
       "array([[   1., 1855.,  118.],\n",
       "       [   1., 1856.,  151.],\n",
       "       [   1., 1857.,  119.],\n",
       "       [   1., 1858.,   94.],\n",
       "       [   1., 1859.,  111.],\n",
       "       [   1., 1860.,  129.],\n",
       "       [   1., 1861.,  133.],\n",
       "       [   1., 1862.,  119.],\n",
       "       [   1., 1863.,  131.],\n",
       "       [   1., 1864.,  117.],\n",
       "       [   1., 1865.,  125.],\n",
       "       [   1., 1866.,  128.],\n",
       "       [   1., 1867.,  108.],\n",
       "       [   1., 1868.,  126.],\n",
       "       [   1., 1869.,  138.],\n",
       "       [   1., 1870.,  100.],\n",
       "       [   1., 1871.,  142.],\n",
       "       [   1., 1872.,  141.],\n",
       "       [   1., 1873.,  136.],\n",
       "       [   1., 1874.,  123.],\n",
       "       [   1., 1875.,   91.],\n",
       "       [   1., 1876.,  132.],\n",
       "       [   1., 1877.,   62.],\n",
       "       [   1., 1878.,  115.],\n",
       "       [   1., 1879.,   93.],\n",
       "       [   1., 1880.,  160.],\n",
       "       [   1., 1881.,   77.],\n",
       "       [   1., 1882.,  127.],\n",
       "       [   1., 1883.,  120.],\n",
       "       [   1., 1884.,  121.],\n",
       "       [   1., 1885.,  131.],\n",
       "       [   1., 1886.,  131.],\n",
       "       [   1., 1887.,  137.],\n",
       "       [   1., 1888.,   87.],\n",
       "       [   1., 1889.,   74.],\n",
       "       [   1., 1890.,  113.],\n",
       "       [   1., 1891.,   96.],\n",
       "       [   1., 1892.,  117.],\n",
       "       [   1., 1893.,   99.],\n",
       "       [   1., 1894.,  104.],\n",
       "       [   1., 1895.,  119.],\n",
       "       [   1., 1896.,  123.],\n",
       "       [   1., 1897.,  101.],\n",
       "       [   1., 1898.,  129.],\n",
       "       [   1., 1899.,  112.],\n",
       "       [   1., 1900.,  118.],\n",
       "       [   1., 1901.,  103.],\n",
       "       [   1., 1902.,   85.],\n",
       "       [   1., 1903.,  140.],\n",
       "       [   1., 1904.,  111.],\n",
       "       [   1., 1905.,  115.],\n",
       "       [   1., 1906.,  106.],\n",
       "       [   1., 1907.,  106.],\n",
       "       [   1., 1908.,  118.],\n",
       "       [   1., 1909.,   96.],\n",
       "       [   1., 1910.,  103.],\n",
       "       [   1., 1911.,  113.],\n",
       "       [   1., 1912.,  104.],\n",
       "       [   1., 1913.,   83.],\n",
       "       [   1., 1914.,  115.],\n",
       "       [   1., 1915.,  111.],\n",
       "       [   1., 1916.,  116.],\n",
       "       [   1., 1917.,  116.],\n",
       "       [   1., 1918.,   83.],\n",
       "       [   1., 1919.,  116.],\n",
       "       [   1., 1920.,   85.],\n",
       "       [   1., 1921.,   96.],\n",
       "       [   1., 1922.,  127.],\n",
       "       [   1., 1923.,  103.],\n",
       "       [   1., 1924.,  103.],\n",
       "       [   1., 1925.,  126.],\n",
       "       [   1., 1926.,  102.],\n",
       "       [   1., 1927.,  108.],\n",
       "       [   1., 1928.,   96.],\n",
       "       [   1., 1929.,  104.],\n",
       "       [   1., 1930.,   98.],\n",
       "       [   1., 1931.,   60.],\n",
       "       [   1., 1932.,  107.],\n",
       "       [   1., 1933.,  103.],\n",
       "       [   1., 1934.,   98.],\n",
       "       [   1., 1935.,  107.],\n",
       "       [   1., 1936.,  123.],\n",
       "       [   1., 1937.,  111.],\n",
       "       [   1., 1938.,  102.],\n",
       "       [   1., 1939.,  102.],\n",
       "       [   1., 1940.,  127.],\n",
       "       [   1., 1941.,   85.],\n",
       "       [   1., 1942.,  114.],\n",
       "       [   1., 1943.,  101.],\n",
       "       [   1., 1944.,   89.],\n",
       "       [   1., 1945.,   99.],\n",
       "       [   1., 1946.,  108.],\n",
       "       [   1., 1947.,  108.],\n",
       "       [   1., 1948.,   92.],\n",
       "       [   1., 1949.,  113.],\n",
       "       [   1., 1950.,  118.],\n",
       "       [   1., 1951.,  112.],\n",
       "       [   1., 1952.,   93.],\n",
       "       [   1., 1953.,   72.],\n",
       "       [   1., 1954.,   83.],\n",
       "       [   1., 1955.,  109.],\n",
       "       [   1., 1956.,   92.],\n",
       "       [   1., 1957.,  109.],\n",
       "       [   1., 1958.,  125.],\n",
       "       [   1., 1959.,  101.],\n",
       "       [   1., 1960.,   98.],\n",
       "       [   1., 1961.,  113.],\n",
       "       [   1., 1962.,  112.],\n",
       "       [   1., 1963.,   92.],\n",
       "       [   1., 1964.,  114.],\n",
       "       [   1., 1965.,   65.],\n",
       "       [   1., 1966.,   88.],\n",
       "       [   1., 1967.,   87.],\n",
       "       [   1., 1968.,  101.],\n",
       "       [   1., 1969.,   92.],\n",
       "       [   1., 1970.,   93.]])"
      ]
     },
     "execution_count": 68,
     "metadata": {},
     "output_type": "execute_result"
    }
   ],
   "source": [
    "X_train_mendota"
   ]
  },
  {
   "cell_type": "code",
   "execution_count": 102,
   "metadata": {},
   "outputs": [],
   "source": [
    "Y_train_mendota = mendota[0:116].reshape(116,1)"
   ]
  },
  {
   "cell_type": "code",
   "execution_count": 103,
   "metadata": {},
   "outputs": [],
   "source": [
    "#Q4 MEAN SQUARE ERRROR\n",
    "\n",
    "X_test_mendota = np.concatenate((np.ones(mendota_test.shape[0]).reshape(48,1), test_year.reshape(48,1), monona_test.reshape(48,1)), axis=1)"
   ]
  },
  {
   "cell_type": "code",
   "execution_count": 104,
   "metadata": {},
   "outputs": [],
   "source": [
    "y_test_mendota =  mendota[116 :].reshape(48,1)"
   ]
  },
  {
   "cell_type": "code",
   "execution_count": 105,
   "metadata": {},
   "outputs": [
    {
     "data": {
      "text/plain": [
       "124.26409483939052"
      ]
     },
     "execution_count": 105,
     "metadata": {},
     "output_type": "execute_result"
    }
   ],
   "source": [
    "mse = 0\n",
    "for i in range (48):\n",
    "    mse += np.sum ((np.dot(X_test_mendota[i], beta) - y_test_mendota[i])**2)\n",
    "mse/48"
   ]
  },
  {
   "cell_type": "code",
   "execution_count": null,
   "metadata": {},
   "outputs": [],
   "source": []
  },
  {
   "cell_type": "code",
   "execution_count": 106,
   "metadata": {},
   "outputs": [],
   "source": [
    "#Q4 # R2 values on the Mendota test set. "
   ]
  },
  {
   "cell_type": "code",
   "execution_count": 123,
   "metadata": {},
   "outputs": [
    {
     "data": {
      "text/plain": [
       "90.83333333333333"
      ]
     },
     "execution_count": 123,
     "metadata": {},
     "output_type": "execute_result"
    }
   ],
   "source": [
    "#y_mean = np.mean(Y_train_mendota)\n",
    "y_mean = np.mean(y_test_mendota)\n",
    "y_mean"
   ]
  },
  {
   "cell_type": "code",
   "execution_count": 124,
   "metadata": {},
   "outputs": [
    {
     "data": {
      "text/plain": [
       "0.7104900715623829"
      ]
     },
     "execution_count": 124,
     "metadata": {},
     "output_type": "execute_result"
    }
   ],
   "source": [
    "mse_hat = 0\n",
    "mse = 0\n",
    "for i in range (48):\n",
    "    mse_hat += np.sum ((y_test_mendota[i] - y_mean)**2)\n",
    "    mse += np.sum ((np.dot(X_test_mendota[i], beta) - y_test_mendota[i])**2)\n",
    "1- mse/mse_hat"
   ]
  },
  {
   "cell_type": "code",
   "execution_count": 112,
   "metadata": {},
   "outputs": [
    {
     "data": {
      "text/plain": [
       "5964.676552290745"
      ]
     },
     "execution_count": 112,
     "metadata": {},
     "output_type": "execute_result"
    }
   ],
   "source": [
    "mse"
   ]
  },
  {
   "cell_type": "code",
   "execution_count": 113,
   "metadata": {},
   "outputs": [
    {
     "data": {
      "text/plain": [
       "33444.07134363852"
      ]
     },
     "execution_count": 113,
     "metadata": {},
     "output_type": "execute_result"
    }
   ],
   "source": [
    "mse_hat"
   ]
  },
  {
   "cell_type": "code",
   "execution_count": null,
   "metadata": {},
   "outputs": [],
   "source": []
  },
  {
   "cell_type": "code",
   "execution_count": null,
   "metadata": {},
   "outputs": [],
   "source": [
    "# Q6  Implement gradient descent. "
   ]
  },
  {
   "cell_type": "code",
   "execution_count": null,
   "metadata": {},
   "outputs": [],
   "source": []
  },
  {
   "cell_type": "code",
   "execution_count": null,
   "metadata": {},
   "outputs": [],
   "source": []
  },
  {
   "cell_type": "code",
   "execution_count": null,
   "metadata": {},
   "outputs": [],
   "source": []
  },
  {
   "cell_type": "code",
   "execution_count": 74,
   "metadata": {
    "collapsed": true
   },
   "outputs": [
    {
     "data": {
      "text/plain": [
       "array([[ 118, 1855,  118],\n",
       "       [ 151, 1856,  151],\n",
       "       [ 121, 1857,  119],\n",
       "       [  96, 1858,   94],\n",
       "       [ 110, 1859,  111],\n",
       "       [ 117, 1860,  129],\n",
       "       [ 132, 1861,  133],\n",
       "       [ 104, 1862,  119],\n",
       "       [ 125, 1863,  131],\n",
       "       [ 118, 1864,  117],\n",
       "       [ 125, 1865,  125],\n",
       "       [ 123, 1866,  128],\n",
       "       [ 110, 1867,  108],\n",
       "       [ 127, 1868,  126],\n",
       "       [ 131, 1869,  138],\n",
       "       [  99, 1870,  100],\n",
       "       [ 126, 1871,  142],\n",
       "       [ 144, 1872,  141],\n",
       "       [ 136, 1873,  136],\n",
       "       [ 126, 1874,  123],\n",
       "       [  91, 1875,   91],\n",
       "       [ 130, 1876,  132],\n",
       "       [  62, 1877,   62],\n",
       "       [ 112, 1878,  115],\n",
       "       [  99, 1879,   93],\n",
       "       [ 161, 1880,  160],\n",
       "       [  78, 1881,   77],\n",
       "       [ 124, 1882,  127],\n",
       "       [ 119, 1883,  120],\n",
       "       [ 124, 1884,  121],\n",
       "       [ 128, 1885,  131],\n",
       "       [ 131, 1886,  131],\n",
       "       [ 113, 1887,  137],\n",
       "       [  88, 1888,   87],\n",
       "       [  75, 1889,   74],\n",
       "       [ 111, 1890,  113],\n",
       "       [  97, 1891,   96],\n",
       "       [ 112, 1892,  117],\n",
       "       [ 101, 1893,   99],\n",
       "       [ 101, 1894,  104],\n",
       "       [  91, 1895,  119],\n",
       "       [ 110, 1896,  123],\n",
       "       [ 100, 1897,  101],\n",
       "       [ 130, 1898,  129],\n",
       "       [ 111, 1899,  112],\n",
       "       [ 107, 1900,  118],\n",
       "       [ 105, 1901,  103],\n",
       "       [  89, 1902,   85],\n",
       "       [ 126, 1903,  140],\n",
       "       [ 108, 1904,  111],\n",
       "       [  97, 1905,  115],\n",
       "       [  94, 1906,  106],\n",
       "       [  83, 1907,  106],\n",
       "       [ 106, 1908,  118],\n",
       "       [  98, 1909,   96],\n",
       "       [ 101, 1910,  103],\n",
       "       [ 108, 1911,  113],\n",
       "       [  99, 1912,  104],\n",
       "       [  88, 1913,   83],\n",
       "       [ 115, 1914,  115],\n",
       "       [ 102, 1915,  111],\n",
       "       [ 116, 1916,  116],\n",
       "       [ 115, 1917,  116],\n",
       "       [  82, 1918,   83],\n",
       "       [ 110, 1919,  116],\n",
       "       [  81, 1920,   85],\n",
       "       [  96, 1921,   96],\n",
       "       [ 125, 1922,  127],\n",
       "       [ 104, 1923,  103],\n",
       "       [ 105, 1924,  103],\n",
       "       [ 124, 1925,  126],\n",
       "       [ 103, 1926,  102],\n",
       "       [ 106, 1927,  108],\n",
       "       [  96, 1928,   96],\n",
       "       [ 107, 1929,  104],\n",
       "       [  98, 1930,   98],\n",
       "       [  65, 1931,   60],\n",
       "       [ 115, 1932,  107],\n",
       "       [  91, 1933,  103],\n",
       "       [  94, 1934,   98],\n",
       "       [ 101, 1935,  107],\n",
       "       [ 121, 1936,  123],\n",
       "       [ 105, 1937,  111],\n",
       "       [  97, 1938,  102],\n",
       "       [ 105, 1939,  102],\n",
       "       [  96, 1940,  127],\n",
       "       [  82, 1941,   85],\n",
       "       [ 116, 1942,  114],\n",
       "       [ 114, 1943,  101],\n",
       "       [  92, 1944,   89],\n",
       "       [  98, 1945,   99],\n",
       "       [ 101, 1946,  108],\n",
       "       [ 104, 1947,  108],\n",
       "       [  96, 1948,   92],\n",
       "       [ 109, 1949,  113],\n",
       "       [ 122, 1950,  118],\n",
       "       [ 114, 1951,  112],\n",
       "       [  81, 1952,   93],\n",
       "       [  85, 1953,   72],\n",
       "       [  92, 1954,   83],\n",
       "       [ 114, 1955,  109],\n",
       "       [ 111, 1956,   92],\n",
       "       [  95, 1957,  109],\n",
       "       [ 126, 1958,  125],\n",
       "       [ 105, 1959,  101],\n",
       "       [ 108, 1960,   98],\n",
       "       [ 117, 1961,  113],\n",
       "       [ 112, 1962,  112],\n",
       "       [ 113, 1963,   92],\n",
       "       [ 120, 1964,  114],\n",
       "       [  65, 1965,   65],\n",
       "       [  98, 1966,   88],\n",
       "       [  91, 1967,   87],\n",
       "       [ 108, 1968,  101],\n",
       "       [ 113, 1969,   92],\n",
       "       [ 110, 1970,   93]])"
      ]
     },
     "execution_count": 74,
     "metadata": {},
     "output_type": "execute_result"
    }
   ],
   "source": [
    "#WEKA FILE \n",
    "np.concatenate((mendota[0:116].reshape(116,1), train_year.reshape(116,1), monona_train.reshape(116,1)), axis=1)"
   ]
  },
  {
   "cell_type": "code",
   "execution_count": 72,
   "metadata": {},
   "outputs": [
    {
     "data": {
      "text/plain": [
       "(116,)"
      ]
     },
     "execution_count": 72,
     "metadata": {},
     "output_type": "execute_result"
    }
   ],
   "source": [
    "mendota[0:116].shape"
   ]
  },
  {
   "cell_type": "code",
   "execution_count": null,
   "metadata": {},
   "outputs": [],
   "source": [
    "s = monona_df['days']- mendota_df['days']\n",
    "s.as_matrix(columns=s)"
   ]
  },
  {
   "cell_type": "code",
   "execution_count": null,
   "metadata": {},
   "outputs": [],
   "source": [
    "t = monona_df['year']\n",
    "t"
   ]
  },
  {
   "cell_type": "code",
   "execution_count": null,
   "metadata": {},
   "outputs": [],
   "source": [
    "final = pd.concat([s, t], axis=1).reindex(s.index)"
   ]
  },
  {
   "cell_type": "code",
   "execution_count": null,
   "metadata": {},
   "outputs": [],
   "source": [
    "final"
   ]
  },
  {
   "cell_type": "code",
   "execution_count": null,
   "metadata": {},
   "outputs": [],
   "source": [
    "#####################WEKA\n",
    "'''\n",
    "q9\n",
    "\n",
    "xout =\n",
    "\n",
    "      0.0412 * x2 +\n",
    "      0.853  * x3 +\n",
    "    -64.1828\n",
    "\n",
    "\n",
    "\n",
    "#q10 \n",
    "\n",
    "xout =\n",
    "\n",
    "      0.0387 * x2 +\n",
    "      0.8436 * x3 +\n",
    "    -58.3961\n",
    "'''"
   ]
  }
 ],
 "metadata": {
  "kernelspec": {
   "display_name": "Python 3",
   "language": "python",
   "name": "python3"
  },
  "language_info": {
   "codemirror_mode": {
    "name": "ipython",
    "version": 3
   },
   "file_extension": ".py",
   "mimetype": "text/x-python",
   "name": "python",
   "nbconvert_exporter": "python",
   "pygments_lexer": "ipython3",
   "version": "3.8.8"
  }
 },
 "nbformat": 4,
 "nbformat_minor": 2
}
