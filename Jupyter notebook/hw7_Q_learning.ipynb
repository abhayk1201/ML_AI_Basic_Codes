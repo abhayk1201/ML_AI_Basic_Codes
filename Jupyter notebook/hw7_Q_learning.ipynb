{
 "cells": [
  {
   "cell_type": "markdown",
   "metadata": {},
   "source": [
    "Fix δ = 0:05 (95% confidence) and n = 200. Compute 2q2h log n+h log n 2he +log 2 δ : This is natural log"
   ]
  },
  {
   "cell_type": "code",
   "execution_count": 1,
   "metadata": {},
   "outputs": [],
   "source": [
    "import pandas as pd\n",
    "import numpy as np\n",
    "import matplotlib.pyplot as plt"
   ]
  },
  {
   "cell_type": "code",
   "execution_count": 2,
   "metadata": {},
   "outputs": [],
   "source": [
    "%matplotlib inline"
   ]
  },
  {
   "cell_type": "code",
   "execution_count": 79,
   "metadata": {},
   "outputs": [
    {
     "data": {
      "text/plain": [
       "0.2278853081842991"
      ]
     },
     "execution_count": 79,
     "metadata": {},
     "output_type": "execute_result"
    }
   ],
   "source": [
    "2*np.sqrt(2*((1*np.log(2000) + 1*np.log(2*  2.71828/1) + np.log(2/0.05))/2000))"
   ]
  },
  {
   "cell_type": "code",
   "execution_count": 74,
   "metadata": {},
   "outputs": [
    {
     "data": {
      "text/plain": [
       "0.999999327347282"
      ]
     },
     "execution_count": 74,
     "metadata": {},
     "output_type": "execute_result"
    }
   ],
   "source": [
    "np.log(2.71828)"
   ]
  },
  {
   "cell_type": "code",
   "execution_count": 3,
   "metadata": {},
   "outputs": [
    {
     "data": {
      "text/plain": [
       "(array([-0.79098117, -0.34841812, -0.49960135,  0.38163654,  0.07296455,\n",
       "         0.55595583, -0.89885683,  0.2526229 , -0.90415984, -0.04743342]),\n",
       " array([0., 0., 0., 1., 1., 1., 0., 1., 0., 0.]))"
      ]
     },
     "execution_count": 3,
     "metadata": {},
     "output_type": "execute_result"
    }
   ],
   "source": [
    "x = np.random.uniform(-1,1,10)\n",
    "y = np.zeros(10)\n",
    "ind = np.asarray(np.argwhere(x > 0))[:,0]\n",
    "y[ind] = 1\n",
    "x,y"
   ]
  },
  {
   "cell_type": "code",
   "execution_count": 4,
   "metadata": {},
   "outputs": [
    {
     "data": {
      "text/plain": [
       "0.07296455220272935"
      ]
     },
     "execution_count": 4,
     "metadata": {},
     "output_type": "execute_result"
    }
   ],
   "source": [
    "min(x[ind])"
   ]
  },
  {
   "cell_type": "code",
   "execution_count": 5,
   "metadata": {},
   "outputs": [
    {
     "data": {
      "text/plain": [
       "array([-0.89885683,  0.55595583,  0.07296455, -0.49960135])"
      ]
     },
     "execution_count": 5,
     "metadata": {},
     "output_type": "execute_result"
    }
   ],
   "source": [
    "x[~ind]"
   ]
  },
  {
   "cell_type": "code",
   "execution_count": 6,
   "metadata": {},
   "outputs": [
    {
     "data": {
      "text/plain": [
       "array([3, 4, 5, 7])"
      ]
     },
     "execution_count": 6,
     "metadata": {},
     "output_type": "execute_result"
    }
   ],
   "source": [
    "ind"
   ]
  },
  {
   "cell_type": "code",
   "execution_count": 7,
   "metadata": {},
   "outputs": [],
   "source": [
    "def ERM(count=1, S=10):\n",
    "    error = []\n",
    "    \n",
    "    for i in range(count):\n",
    "        x = np.random.uniform(-1,1,S)\n",
    "        y = np.zeros(S)\n",
    "        ind = np.asarray(np.argwhere(x > 0))[:,0]\n",
    "        y[ind] = 1\n",
    "        error.append(min(x[ind])/2)\n",
    "    return error"
   ]
  },
  {
   "cell_type": "code",
   "execution_count": 80,
   "metadata": {},
   "outputs": [],
   "source": [
    "ans = ERM(count=10000, S=2000)"
   ]
  },
  {
   "cell_type": "code",
   "execution_count": 78,
   "metadata": {},
   "outputs": [
    {
     "data": {
      "text/plain": [
       "0.046899321253292325"
      ]
     },
     "execution_count": 78,
     "metadata": {},
     "output_type": "execute_result"
    }
   ],
   "source": [
    "max(ans)"
   ]
  },
  {
   "cell_type": "code",
   "execution_count": 81,
   "metadata": {},
   "outputs": [
    {
     "data": {
      "text/plain": [
       "0.001485342948643242"
      ]
     },
     "execution_count": 81,
     "metadata": {},
     "output_type": "execute_result"
    }
   ],
   "source": [
    "np.percentile(np.asarray(ans), 95)"
   ]
  },
  {
   "cell_type": "code",
   "execution_count": 9,
   "metadata": {},
   "outputs": [
    {
     "data": {
      "text/plain": [
       "10000"
      ]
     },
     "execution_count": 9,
     "metadata": {},
     "output_type": "execute_result"
    }
   ],
   "source": [
    "len(ans)"
   ]
  },
  {
   "cell_type": "code",
   "execution_count": 23,
   "metadata": {},
   "outputs": [
    {
     "data": {
      "image/png": "[encoded data removed]",
      "text/plain": [
       "<Figure size 432x288 with 1 Axes>"
      ]
     },
     "metadata": {
      "needs_background": "light"
     },
     "output_type": "display_data"
    }
   ],
   "source": [
    "plt.hist(ans, bins=100)\n",
    "plt.ylabel('histogram');\n",
    "plt.title('histogram plot');\n",
    "plt.savefig(\"q2.png\")"
   ]
  },
  {
   "cell_type": "code",
   "execution_count": 11,
   "metadata": {},
   "outputs": [
    {
     "data": {
      "text/plain": [
       "0.01488647466511309"
      ]
     },
     "execution_count": 11,
     "metadata": {},
     "output_type": "execute_result"
    }
   ],
   "source": [
    "np.percentile(np.asarray(ans), 95)"
   ]
  },
  {
   "cell_type": "code",
   "execution_count": 12,
   "metadata": {},
   "outputs": [],
   "source": [
    "# RL"
   ]
  },
  {
   "cell_type": "code",
   "execution_count": 13,
   "metadata": {},
   "outputs": [],
   "source": [
    "# Define the states\n",
    "location_to_state = {\n",
    "    'A' : 0,\n",
    "    'B' : 1}"
   ]
  },
  {
   "cell_type": "code",
   "execution_count": 14,
   "metadata": {},
   "outputs": [],
   "source": [
    "# Initialize parameters\n",
    "gamma = 0.9 # Discount factor \n",
    "alpha = 0.5 # Learning rate"
   ]
  },
  {
   "cell_type": "code",
   "execution_count": 15,
   "metadata": {},
   "outputs": [],
   "source": [
    "# Define the actions\n",
    "actions = [0,1]  # \"move\" and \"stay\""
   ]
  },
  {
   "cell_type": "code",
   "execution_count": 16,
   "metadata": {},
   "outputs": [],
   "source": [
    "# Define the rewards\n",
    "rewards = np.array([[1,0],\n",
    "                    [0,1]])"
   ]
  },
  {
   "cell_type": "code",
   "execution_count": 17,
   "metadata": {},
   "outputs": [],
   "source": [
    "# Maps indices to locations\n",
    "state_to_location = dict((state,location) for location,state in location_to_state.items())"
   ]
  },
  {
   "cell_type": "code",
   "execution_count": 18,
   "metadata": {},
   "outputs": [
    {
     "data": {
      "text/plain": [
       "array([[1, 0],\n",
       "       [0, 1]])"
      ]
     },
     "execution_count": 18,
     "metadata": {},
     "output_type": "execute_result"
    }
   ],
   "source": [
    "rewards"
   ]
  },
  {
   "cell_type": "code",
   "execution_count": 35,
   "metadata": {},
   "outputs": [],
   "source": []
  },
  {
   "cell_type": "code",
   "execution_count": 19,
   "metadata": {},
   "outputs": [],
   "source": [
    "import random"
   ]
  },
  {
   "cell_type": "code",
   "execution_count": 41,
   "metadata": {},
   "outputs": [],
   "source": [
    "# -----------Q-Learning algorithm-----------\n",
    "\n",
    "# Initializing Q-Values\n",
    "Q = np.array(np.zeros([2,2]))\n",
    "Qf = np.array(np.zeros([2,2]))\n",
    "#The agent starts in state s1 = A\n",
    "current_state = 0\n",
    "#print(state_to_location[current_state])\n",
    "\n",
    "for i in range(200):\n",
    "    #actions = np.random.randint(0,2)\n",
    "    n = random.random()\n",
    "    if n < 0.5:\n",
    "        actions = 0\n",
    "    else:\n",
    "        actions = 1\n",
    "    if actions == 1:\n",
    "        next_state = current_state\n",
    "    else:\n",
    "        if current_state == 0:\n",
    "            next_state = 1\n",
    "        else:\n",
    "            next_state = 0\n",
    "    \n",
    "    #print(state_to_location[current_state], state_to_location[next_state])\n",
    "    \n",
    "    Q[current_state,next_state] = (1-alpha)*Q[current_state,next_state] + alpha*(rewards[current_state,next_state] + gamma * Q[next_state, np.argmax(Q[next_state,])])\n",
    "    current_state = next_state\n",
    "Qf[0,1] = Q[0,0]\n",
    "Qf[0,0] = Q[0,1]\n",
    "Qf[1,1] = Q[1,1]\n",
    "Qf[1,0] = Q[1,0]"
   ]
  },
  {
   "cell_type": "code",
   "execution_count": 42,
   "metadata": {},
   "outputs": [
    {
     "data": {
      "text/plain": [
       "array([[8.47358857, 9.23064391],\n",
       "       [8.27699814, 9.43438373]])"
      ]
     },
     "execution_count": 42,
     "metadata": {},
     "output_type": "execute_result"
    }
   ],
   "source": [
    "Qf"
   ]
  },
  {
   "cell_type": "markdown",
   "metadata": {},
   "source": [
    "# q3.2"
   ]
  },
  {
   "cell_type": "code",
   "execution_count": 58,
   "metadata": {},
   "outputs": [
    {
     "data": {
      "text/plain": [
       "array([[8.87491817, 9.35634351],\n",
       "       [8.36362713, 9.88466698]])"
      ]
     },
     "execution_count": 58,
     "metadata": {},
     "output_type": "execute_result"
    }
   ],
   "source": [
    "# Initializing Q-Values\n",
    "Q = np.array(np.zeros([2,2]))\n",
    "Qf = np.array(np.zeros([2,2]))\n",
    "#The agent starts in state s1 = A\n",
    "current_state = 0\n",
    "#print(state_to_location[current_state])\n",
    "\n",
    "for i in range(200):\n",
    "    #actions = np.random.randint(0,2)\n",
    "    n = random.random()\n",
    "    if n < 0.5:\n",
    "        actions = np.argmax(Q[current_state,:])\n",
    "    else:\n",
    "        actions = np.random.randint(0,2)\n",
    "                            \n",
    "    if actions == 1:\n",
    "        next_state = current_state\n",
    "    else:\n",
    "        if current_state == 0:\n",
    "            next_state = 1\n",
    "        else:\n",
    "            next_state = 0\n",
    "    \n",
    "    #print(state_to_location[current_state], state_to_location[next_state])\n",
    "    \n",
    "    Q[current_state,next_state] = (1-alpha)*Q[current_state,next_state] + alpha*(rewards[current_state,next_state] + gamma * Q[next_state, np.argmax(Q[next_state,])])\n",
    "    current_state = next_state\n",
    "Qf[0,1] = Q[0,0]\n",
    "Qf[0,0] = Q[0,1]\n",
    "Qf[1,1] = Q[1,1]\n",
    "Qf[1,0] = Q[1,0]\n",
    "Qf"
   ]
  },
  {
   "cell_type": "markdown",
   "metadata": {},
   "source": [
    "# q3.3"
   ]
  },
  {
   "cell_type": "code",
   "execution_count": 59,
   "metadata": {},
   "outputs": [
    {
     "data": {
      "text/plain": [
       "array([[0., 0.],\n",
       "       [0., 0.]])"
      ]
     },
     "execution_count": 59,
     "metadata": {},
     "output_type": "execute_result"
    }
   ],
   "source": [
    "# Initializing Q-Values\n",
    "Q = np.array(np.zeros([2,2]))\n",
    "Qf = np.array(np.zeros([2,2]))\n",
    "#The agent starts in state s1 = A\n",
    "current_state = 0\n",
    "#print(state_to_location[current_state])\n",
    "\n",
    "for i in range(200):\n",
    "    #actions = np.random.randint(0,2)\n",
    "\n",
    "    actions = np.argmax(Q[current_state,:])\n",
    "                          \n",
    "    if actions == 1:\n",
    "        next_state = current_state\n",
    "    else:\n",
    "        if current_state == 0:\n",
    "            next_state = 1\n",
    "        else:\n",
    "            next_state = 0\n",
    "    \n",
    "    #print(state_to_location[current_state], state_to_location[next_state])\n",
    "    \n",
    "    Q[current_state,next_state] = (1-alpha)*Q[current_state,next_state] + alpha*(rewards[current_state,next_state] + gamma * Q[next_state, np.argmax(Q[next_state,])])\n",
    "    current_state = next_state\n",
    "Qf[0,1] = Q[0,0]\n",
    "Qf[0,0] = Q[0,1]\n",
    "Qf[1,1] = Q[1,1]\n",
    "Qf[1,0] = Q[1,0]\n",
    "Qf"
   ]
  },
  {
   "cell_type": "code",
   "execution_count": null,
   "metadata": {},
   "outputs": [],
   "source": []
  }
 ],
 "metadata": {
  "kernelspec": {
   "display_name": "Python 3",
   "language": "python",
   "name": "python3"
  },
  "language_info": {
   "codemirror_mode": {
    "name": "ipython",
    "version": 3
   },
   "file_extension": ".py",
   "mimetype": "text/x-python",
   "name": "python",
   "nbconvert_exporter": "python",
   "pygments_lexer": "ipython3",
   "version": "3.6.8"
  }
 },
 "nbformat": 4,
 "nbformat_minor": 2
}
