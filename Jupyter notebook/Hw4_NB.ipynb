{
 "cells": [
  {
   "cell_type": "code",
   "execution_count": 1,
   "metadata": {},
   "outputs": [],
   "source": [
    "import re\n",
    "import os\n",
    "import numpy as np"
   ]
  },
  {
   "cell_type": "code",
   "execution_count": 2,
   "metadata": {},
   "outputs": [],
   "source": [
    "def preprocess_string(str_arg):\n",
    "    \n",
    "    \"\"\"\"\n",
    "        ---------\n",
    "        Preprocessed string     \n",
    "    \"\"\"\n",
    "    cleaned_str=str_arg.strip(\"\\n\")\n",
    "    cleaned_str=re.sub('[^a-z\\s]+',' ',str_arg,flags=re.IGNORECASE) #every char except alphabets is replaced\n",
    "    #cleaned_str=re.sub('(\\s+)',' ',cleaned_str) #multiple spaces are replaced by single space\n",
    "    cleaned_str=cleaned_str.lower() #converting the cleaned string to lower case\n",
    "    \n",
    "    return cleaned_str # eturning the preprocessed string in tokenized form"
   ]
  },
  {
   "cell_type": "code",
   "execution_count": 3,
   "metadata": {},
   "outputs": [],
   "source": [
    "def convertFileToCharacters(filename) :   \n",
    "    f = open(filename, 'r')\n",
    "    content = f.readlines()\n",
    "    file_characters = []\n",
    "    for lines in content :\n",
    "        preprocessed = preprocess_string(lines)\n",
    "        if preprocessed != ' ':\n",
    "            file_characters.extend(list(preprocessed))\n",
    "    return file_characters"
   ]
  },
  {
   "cell_type": "code",
   "execution_count": 4,
   "metadata": {},
   "outputs": [],
   "source": [
    "def BOW(document):\n",
    "    count = {}\n",
    "    bowVector = np.zeros((27,1))\n",
    "    for letters in document:\n",
    "        if letters in count:\n",
    "            count[letters] += 1\n",
    "        else:\n",
    "            count[letters] = 1\n",
    "    #print (sorted(count.keys()))\n",
    "    for i in range(26):\n",
    "        if chr(ord('a')+i) in count.keys():\n",
    "            bowVector[i] = count[chr(ord('a')+i)]\n",
    "    bowVector[26] = count[' ']\n",
    "    return bowVector\n"
   ]
  },
  {
   "cell_type": "code",
   "execution_count": 5,
   "metadata": {},
   "outputs": [],
   "source": [
    "## define P(c|y=e)\n",
    "\n",
    "\n",
    "def classConditionalProb (classname):\n",
    "    count_giv_class = np.zeros((27,1))\n",
    "    for filename in os.listdir(\"languageID\"):\n",
    "        if filename.endswith(\".txt\") and filename.startswith(classname):\n",
    "            if int (filename.strip(\".txt\").strip(classname)) <= 9:\n",
    "                count_giv_class += BOW(convertFileToCharacters(\"languageID/\"+filename))\n",
    "                \n",
    "    return count_giv_class\n"
   ]
  },
  {
   "cell_type": "code",
   "execution_count": 6,
   "metadata": {},
   "outputs": [
    {
     "data": {
      "text/plain": [
       "array([[ 910.],\n",
       "       [ 168.],\n",
       "       [ 325.],\n",
       "       [ 332.],\n",
       "       [1594.],\n",
       "       [ 286.],\n",
       "       [ 264.],\n",
       "       [ 714.],\n",
       "       [ 838.],\n",
       "       [  21.],\n",
       "       [  56.],\n",
       "       [ 438.],\n",
       "       [ 310.],\n",
       "       [ 876.],\n",
       "       [ 975.],\n",
       "       [ 253.],\n",
       "       [   8.],\n",
       "       [ 814.],\n",
       "       [1001.],\n",
       "       [1212.],\n",
       "       [ 403.],\n",
       "       [ 140.],\n",
       "       [ 234.],\n",
       "       [  17.],\n",
       "       [ 209.],\n",
       "       [   9.],\n",
       "       [2712.]])"
      ]
     },
     "execution_count": 6,
     "metadata": {},
     "output_type": "execute_result"
    }
   ],
   "source": [
    "classConditionalProb(\"e\")"
   ]
  },
  {
   "cell_type": "code",
   "execution_count": 7,
   "metadata": {},
   "outputs": [
    {
     "data": {
      "text/plain": [
       "array([[ 911.],\n",
       "       [ 169.],\n",
       "       [ 326.],\n",
       "       [ 333.],\n",
       "       [1595.],\n",
       "       [ 287.],\n",
       "       [ 265.],\n",
       "       [ 715.],\n",
       "       [ 839.],\n",
       "       [  22.],\n",
       "       [  57.],\n",
       "       [ 439.],\n",
       "       [ 311.],\n",
       "       [ 877.],\n",
       "       [ 976.],\n",
       "       [ 254.],\n",
       "       [   9.],\n",
       "       [ 815.],\n",
       "       [1002.],\n",
       "       [1213.],\n",
       "       [ 404.],\n",
       "       [ 141.],\n",
       "       [ 235.],\n",
       "       [  18.],\n",
       "       [ 210.],\n",
       "       [  10.],\n",
       "       [2713.]])"
      ]
     },
     "execution_count": 7,
     "metadata": {},
     "output_type": "execute_result"
    }
   ],
   "source": [
    "np.ones((27,1))+classConditionalProb(\"e\")"
   ]
  },
  {
   "cell_type": "code",
   "execution_count": 8,
   "metadata": {},
   "outputs": [
    {
     "data": {
      "text/plain": [
       "array([[0.06014789],\n",
       "       [0.01115806],\n",
       "       [0.02152383],\n",
       "       [0.021986  ],\n",
       "       [0.10530833],\n",
       "       [0.0189489 ],\n",
       "       [0.01749637],\n",
       "       [0.04720718],\n",
       "       [0.05539416],\n",
       "       [0.00145253],\n",
       "       [0.00376337],\n",
       "       [0.02898455],\n",
       "       [0.02053347],\n",
       "       [0.05790308],\n",
       "       [0.06443946],\n",
       "       [0.0167701 ],\n",
       "       [0.00059422],\n",
       "       [0.05380959],\n",
       "       [0.06615608],\n",
       "       [0.08008715],\n",
       "       [0.02667371],\n",
       "       [0.00930939],\n",
       "       [0.01551565],\n",
       "       [0.00118843],\n",
       "       [0.01386505],\n",
       "       [0.00066024],\n",
       "       [0.1791232 ]])"
      ]
     },
     "execution_count": 8,
     "metadata": {},
     "output_type": "execute_result"
    }
   ],
   "source": [
    "#q3.2\n",
    "Qe = (np.ones((27,1))+classConditionalProb(\"e\"))/ (sum (classConditionalProb(\"e\")) + 27)\n",
    "Qe"
   ]
  },
  {
   "cell_type": "code",
   "execution_count": 30,
   "metadata": {},
   "outputs": [],
   "source": [
    "np.set_printoptions(precision=None, suppress=True)"
   ]
  },
  {
   "cell_type": "code",
   "execution_count": 31,
   "metadata": {},
   "outputs": [],
   "source": [
    "#q3.3\n",
    "Qj = (np.ones((27,1))+classConditionalProb(\"j\"))/ (sum (classConditionalProb(\"j\")) + 27)"
   ]
  },
  {
   "cell_type": "code",
   "execution_count": 32,
   "metadata": {},
   "outputs": [
    {
     "data": {
      "text/plain": [
       "array([[0.13167632],\n",
       "       [0.01089157],\n",
       "       [0.0055156 ],\n",
       "       [0.01724499],\n",
       "       [0.06018292],\n",
       "       [0.0039098 ],\n",
       "       [0.01403337],\n",
       "       [0.03176709],\n",
       "       [0.09697689],\n",
       "       [0.0023738 ],\n",
       "       [0.05739021],\n",
       "       [0.00146617],\n",
       "       [0.03979613],\n",
       "       [0.05669203],\n",
       "       [0.0911122 ],\n",
       "       [0.00090763],\n",
       "       [0.00013964],\n",
       "       [0.0427983 ],\n",
       "       [0.04216994],\n",
       "       [0.0569713 ],\n",
       "       [0.07058577],\n",
       "       [0.00027927],\n",
       "       [0.01975843],\n",
       "       [0.00006982],\n",
       "       [0.01417301],\n",
       "       [0.00774977],\n",
       "       [0.12336801]])"
      ]
     },
     "execution_count": 32,
     "metadata": {},
     "output_type": "execute_result"
    }
   ],
   "source": [
    "Qj"
   ]
  },
  {
   "cell_type": "code",
   "execution_count": 35,
   "metadata": {},
   "outputs": [],
   "source": [
    "#q3.3\n",
    "Qs = (np.ones((27,1))+classConditionalProb(\"s\"))/ (sum (classConditionalProb(\"s\")) + 27)"
   ]
  },
  {
   "cell_type": "code",
   "execution_count": 36,
   "metadata": {},
   "outputs": [
    {
     "data": {
      "text/plain": [
       "array([[0.10450428],\n",
       "       [0.00825682],\n",
       "       [0.03752542],\n",
       "       [0.03974367],\n",
       "       [0.113747  ],\n",
       "       [0.00862653],\n",
       "       [0.00720932],\n",
       "       [0.00455974],\n",
       "       [0.04984904],\n",
       "       [0.00665475],\n",
       "       [0.00030809],\n",
       "       [0.05292994],\n",
       "       [0.02581798],\n",
       "       [0.0541623 ],\n",
       "       [0.07246288],\n",
       "       [0.02427753],\n",
       "       [0.00770226],\n",
       "       [0.0592766 ],\n",
       "       [0.0657465 ],\n",
       "       [0.03561526],\n",
       "       [0.0337051 ],\n",
       "       [0.00591534],\n",
       "       [0.00012324],\n",
       "       [0.00252634],\n",
       "       [0.00788712],\n",
       "       [0.0027112 ],\n",
       "       [0.16815577]])"
      ]
     },
     "execution_count": 36,
     "metadata": {},
     "output_type": "execute_result"
    }
   ],
   "source": [
    "Qs"
   ]
  },
  {
   "cell_type": "code",
   "execution_count": 13,
   "metadata": {},
   "outputs": [],
   "source": [
    "#q4"
   ]
  },
  {
   "cell_type": "code",
   "execution_count": 38,
   "metadata": {},
   "outputs": [
    {
     "data": {
      "text/plain": [
       "array([[164.],\n",
       "       [ 32.],\n",
       "       [ 53.],\n",
       "       [ 57.],\n",
       "       [311.],\n",
       "       [ 55.],\n",
       "       [ 51.],\n",
       "       [140.],\n",
       "       [140.],\n",
       "       [  3.],\n",
       "       [  6.],\n",
       "       [ 85.],\n",
       "       [ 64.],\n",
       "       [139.],\n",
       "       [182.],\n",
       "       [ 53.],\n",
       "       [  3.],\n",
       "       [141.],\n",
       "       [186.],\n",
       "       [225.],\n",
       "       [ 65.],\n",
       "       [ 31.],\n",
       "       [ 47.],\n",
       "       [  4.],\n",
       "       [ 38.],\n",
       "       [  2.],\n",
       "       [498.]])"
      ]
     },
     "execution_count": 38,
     "metadata": {},
     "output_type": "execute_result"
    }
   ],
   "source": [
    "x = BOW(convertFileToCharacters(\"languageID/\"+\"e10.txt\"))\n",
    "x"
   ]
  },
  {
   "cell_type": "code",
   "execution_count": 40,
   "metadata": {},
   "outputs": [
    {
     "data": {
      "text/plain": [
       "-3405.644556038407"
      ]
     },
     "execution_count": 40,
     "metadata": {},
     "output_type": "execute_result"
    }
   ],
   "source": [
    "#q5 Expected probability\n",
    "log_p_x_ye = float(sum(np.multiply(x,np.log10(Qe))))\n",
    "log_p_x_ye "
   ]
  },
  {
   "cell_type": "code",
   "execution_count": 41,
   "metadata": {},
   "outputs": [
    {
     "data": {
      "text/plain": [
       "-3804.210716450759"
      ]
     },
     "execution_count": 41,
     "metadata": {},
     "output_type": "execute_result"
    }
   ],
   "source": [
    "log_p_x_yj = float(sum(np.multiply(x,np.log10(Qj))))\n",
    "log_p_x_yj "
   ]
  },
  {
   "cell_type": "code",
   "execution_count": 42,
   "metadata": {},
   "outputs": [
    {
     "data": {
      "text/plain": [
       "-3670.8233803708918"
      ]
     },
     "execution_count": 42,
     "metadata": {},
     "output_type": "execute_result"
    }
   ],
   "source": [
    "log_p_x_ys = float(sum(np.multiply(x,np.log10(Qs))))\n",
    "log_p_x_ys "
   ]
  },
  {
   "cell_type": "code",
   "execution_count": 18,
   "metadata": {},
   "outputs": [
    {
     "data": {
      "text/plain": [
       "-3406.1216772931266"
      ]
     },
     "execution_count": 18,
     "metadata": {},
     "output_type": "execute_result"
    }
   ],
   "source": [
    "#q6 Posterior probability\n",
    "log_p_ye_x = log_p_x_ye + np.log10(11/33)\n",
    "log_p_ye_x"
   ]
  },
  {
   "cell_type": "code",
   "execution_count": 19,
   "metadata": {},
   "outputs": [
    {
     "data": {
      "text/plain": [
       "-3804.6878377054786"
      ]
     },
     "execution_count": 19,
     "metadata": {},
     "output_type": "execute_result"
    }
   ],
   "source": [
    "log_p_yj_x = log_p_x_yj + np.log10(11/33)\n",
    "log_p_yj_x"
   ]
  },
  {
   "cell_type": "code",
   "execution_count": 20,
   "metadata": {},
   "outputs": [
    {
     "data": {
      "text/plain": [
       "-3671.3005016256116"
      ]
     },
     "execution_count": 20,
     "metadata": {},
     "output_type": "execute_result"
    }
   ],
   "source": [
    "log_p_ys_x = log_p_x_ys + np.log10(11/33)\n",
    "log_p_ys_x"
   ]
  },
  {
   "cell_type": "code",
   "execution_count": 21,
   "metadata": {},
   "outputs": [
    {
     "name": "stderr",
     "output_type": "stream",
     "text": [
      "/u/a/b/abhayk/.local/lib/python3.6/site-packages/ipykernel_launcher.py:1: RuntimeWarning: invalid value encountered in double_scalars\n",
      "  \"\"\"Entry point for launching an IPython kernel.\n"
     ]
    },
    {
     "data": {
      "text/plain": [
       "nan"
      ]
     },
     "execution_count": 21,
     "metadata": {},
     "output_type": "execute_result"
    }
   ],
   "source": [
    "10**log_p_ye_x/(10**log_p_ye_x + 10**log_p_yj_x + 10**log_p_ys_x)"
   ]
  },
  {
   "cell_type": "code",
   "execution_count": 22,
   "metadata": {},
   "outputs": [],
   "source": [
    "def predict (classname):\n",
    "    count_giv_class = np.zeros((27,1))\n",
    "    classified_as_english = 0\n",
    "    classified_as_Japanese = 0\n",
    "    classified_as_spanish = 0\n",
    "\n",
    "    for filename in os.listdir(\"languageID\"):\n",
    "        if filename.endswith(\".txt\") and filename.startswith(classname):\n",
    "            if int (filename.strip(\".txt\").strip(classname)) > 9:\n",
    "                x = BOW(convertFileToCharacters(\"languageID/\"+filename))\n",
    "                log_p_ye_x = float(sum(np.multiply(x,np.log(Qe)))) + np.log(11/33)\n",
    "                log_p_yj_x = float(sum(np.multiply(x,np.log(Qj)))) + np.log(11/33)\n",
    "                log_p_ys_x = float(sum(np.multiply(x,np.log(Qs)))) + np.log(11/33)\n",
    "                if  log_p_ye_x == max (log_p_ye_x, log_p_yj_x, log_p_ys_x) : \n",
    "                    class_predicted = 'e'\n",
    "                    classified_as_english += 1\n",
    "                elif log_p_yj_x == max (log_p_ye_x, log_p_yj_x, log_p_ys_x) : \n",
    "                    class_predicted = 'j'\n",
    "                    classified_as_Japanese += 1\n",
    "                else: \n",
    "                    class_predicted = 's'\n",
    "                    classified_as_spanish += 1\n",
    "    return classified_as_english, classified_as_Japanese, classified_as_spanish"
   ]
  },
  {
   "cell_type": "code",
   "execution_count": 23,
   "metadata": {},
   "outputs": [
    {
     "data": {
      "text/plain": [
       "(10, 0, 0)"
      ]
     },
     "execution_count": 23,
     "metadata": {},
     "output_type": "execute_result"
    }
   ],
   "source": [
    "predict('e')"
   ]
  },
  {
   "cell_type": "code",
   "execution_count": 24,
   "metadata": {},
   "outputs": [
    {
     "data": {
      "text/plain": [
       "(0, 10, 0)"
      ]
     },
     "execution_count": 24,
     "metadata": {},
     "output_type": "execute_result"
    }
   ],
   "source": [
    "predict('j')"
   ]
  },
  {
   "cell_type": "code",
   "execution_count": 25,
   "metadata": {},
   "outputs": [
    {
     "data": {
      "text/plain": [
       "(0, 0, 10)"
      ]
     },
     "execution_count": 25,
     "metadata": {},
     "output_type": "execute_result"
    }
   ],
   "source": [
    "predict('s')"
   ]
  },
  {
   "cell_type": "code",
   "execution_count": 26,
   "metadata": {},
   "outputs": [
    {
     "data": {
      "text/plain": [
       "array([ True])"
      ]
     },
     "execution_count": 26,
     "metadata": {},
     "output_type": "execute_result"
    }
   ],
   "source": [
    "np.array([-7834.31435832]) == max(np.array([-8444.41505703]), np.array([-8743.75335553]), np.array([-7834.31435832]))"
   ]
  },
  {
   "cell_type": "code",
   "execution_count": 27,
   "metadata": {},
   "outputs": [
    {
     "data": {
      "text/plain": [
       "-7834.31435832"
      ]
     },
     "execution_count": 27,
     "metadata": {},
     "output_type": "execute_result"
    }
   ],
   "source": [
    "float(np.array([-7834.31435832]) )"
   ]
  },
  {
   "cell_type": "code",
   "execution_count": 28,
   "metadata": {},
   "outputs": [
    {
     "ename": "FileNotFoundError",
     "evalue": "[Errno 2] No such file or directory: 's/weka_s15.txt'",
     "output_type": "error",
     "traceback": [
      "\u001b[0;31m---------------------------------------------------------------------------\u001b[0m",
      "\u001b[0;31mFileNotFoundError\u001b[0m                         Traceback (most recent call last)",
      "\u001b[0;32m<ipython-input-28-50e68749e658>\u001b[0m in \u001b[0;36m<module>\u001b[0;34m\u001b[0m\n\u001b[1;32m      2\u001b[0m \u001b[0;32mfor\u001b[0m \u001b[0mfilename\u001b[0m \u001b[0;32min\u001b[0m \u001b[0mos\u001b[0m\u001b[0;34m.\u001b[0m\u001b[0mlistdir\u001b[0m\u001b[0;34m(\u001b[0m\u001b[0;34m\"languageID_Weka\"\u001b[0m\u001b[0;34m)\u001b[0m\u001b[0;34m:\u001b[0m\u001b[0;34m\u001b[0m\u001b[0;34m\u001b[0m\u001b[0m\n\u001b[1;32m      3\u001b[0m     \u001b[0mx\u001b[0m \u001b[0;34m=\u001b[0m \u001b[0mconvertFileToCharacters\u001b[0m\u001b[0;34m(\u001b[0m\u001b[0;34m\"languageID_Weka/\"\u001b[0m\u001b[0;34m+\u001b[0m\u001b[0mfilename\u001b[0m\u001b[0;34m)\u001b[0m\u001b[0;34m\u001b[0m\u001b[0;34m\u001b[0m\u001b[0m\n\u001b[0;32m----> 4\u001b[0;31m     \u001b[0mfout\u001b[0m \u001b[0;34m=\u001b[0m \u001b[0mopen\u001b[0m\u001b[0;34m(\u001b[0m\u001b[0mfilename\u001b[0m\u001b[0;34m[\u001b[0m\u001b[0;36m0\u001b[0m\u001b[0;34m]\u001b[0m \u001b[0;34m+\u001b[0m\u001b[0;34m\"/\"\u001b[0m\u001b[0;34m+\u001b[0m\u001b[0;34m\"weka_\"\u001b[0m\u001b[0;34m+\u001b[0m\u001b[0mfilename\u001b[0m\u001b[0;34m,\u001b[0m \u001b[0;34m\"w\"\u001b[0m\u001b[0;34m)\u001b[0m\u001b[0;34m\u001b[0m\u001b[0;34m\u001b[0m\u001b[0m\n\u001b[0m\u001b[1;32m      5\u001b[0m     \u001b[0mprint\u001b[0m \u001b[0;34m(\u001b[0m\u001b[0;34m\"FILENAME########################\"\u001b[0m \u001b[0;34m+\u001b[0m \u001b[0mfilename\u001b[0m\u001b[0;34m)\u001b[0m\u001b[0;34m\u001b[0m\u001b[0;34m\u001b[0m\u001b[0m\n\u001b[1;32m      6\u001b[0m     \u001b[0;32mfor\u001b[0m \u001b[0mcharacter\u001b[0m \u001b[0;32min\u001b[0m \u001b[0mx\u001b[0m\u001b[0;34m:\u001b[0m\u001b[0;34m\u001b[0m\u001b[0;34m\u001b[0m\u001b[0m\n",
      "\u001b[0;31mFileNotFoundError\u001b[0m: [Errno 2] No such file or directory: 's/weka_s15.txt'"
     ]
    }
   ],
   "source": [
    "#WEKA FILE CREATION\n",
    "for filename in os.listdir(\"languageID_Weka\"):\n",
    "    x = convertFileToCharacters(\"languageID_Weka/\"+filename)\n",
    "    fout = open(filename[0] +\"/\"+\"weka_\"+filename, \"w\")\n",
    "    print (\"FILENAME########################\" + filename)\n",
    "    for character in x:\n",
    "        if character == ' ':\n",
    "            character = 'space'\n",
    "        fout.write(character+ ' ' )\n",
    "    fout.close()"
   ]
  },
  {
   "cell_type": "code",
   "execution_count": null,
   "metadata": {},
   "outputs": [],
   "source": [
    "\n",
    "filename.startswith(\"e\")"
   ]
  },
  {
   "cell_type": "code",
   "execution_count": null,
   "metadata": {},
   "outputs": [],
   "source": [
    "filename = 'e10.txt'\n",
    "filename[0]"
   ]
  },
  {
   "cell_type": "code",
   "execution_count": null,
   "metadata": {},
   "outputs": [],
   "source": [
    "x = ['o', 'u', 'r', ' ', 's', 'u', 'n', ' ', 'i', 's', ' ', 'i', 'n', ' ', 'a', ' ', 'm', 'o', 'r', 'e', ' ', 'o', 'r', ' ', 'l', 'e', 's', 's', ' ', 'c', 'e', 'n', 't', 'r', 'a', 'l', ' ', 'r', 'e', 'g', 'i', 'o', 'n', ' ', 'o', 'f', ' ', 't', 'h', 'e', ' ', 'u', 'n', 'i', 'v', 'e', 'r', 's', 'e', ' ', 'o', 'r', ' ', 'a', ' ', 'f', 'e', 'w', ' ', 'h', 'u', 'n', 'd', 'r', 'e', 'd', ' ', 't', 'r', 'i', 'l', 'l', 'i', 'o', 'n', ' ', 'm', 'i', 'l', 'e', 's', ' ', 'f', 'r', 'o', 'm', ' ', 't', 'h', 'e', ' ', 'a', 'c', 't', 'u', 'a', 'l', ' ', 'c', 'e', 'n', 't', 'r', 'e', ' ', 't', 'h', 'e', ' ', 'r', 'e', 'm', 'a', 'i', 'n', 'd', 'e', 'r', ' ', 'o', 'f', ' ', 't', 'h', 'e', ' ', 's', 't', 'a', 'r', 's', ' ', 'w', 'h', 'i', 'c', 'h', ' ', 'a', 'r', 'e', ' ', 'a', 'l', 'l', ' ', 'o', 'u', 't', 's', 'i', 'd', 'e', ' ', 'o', 'u', 'r', ' ', 's', 'o', 'l', 'a', 'r', ' ', 's', 'y', 's', 't', 'e', 'm', ' ', 'a', 'r', 'e', ' ', 's', 'p', 'r', 'e', 'a', 'd', ' ', 'o', 'u', 't', ' ', 'a', 'p', 'p', 'a', 'r', 'e', 'n', 't', 'l', 'y', ' ', 'i', 'n', ' ', 'a', 'n', ' ', 'e', 'n', 'o', 'r', 'm', 'o', 'u', 's', ' ', 'd', 'i', 's', 'c', 'l', 'i', 'k', 'e', ' ', 'c', 'o', 'l', 'l', 'e', 'c', 't', 'i', 'o', 'n', ' ', 's', 'o', ' ', 'v', 'a', 's', 't', ' ', 't', 'h', 'a', 't', ' ', 'e', 'v', 'e', 'n', ' ', 'a', ' ', 'r', 'a', 'y', ' ', 'o', 'f', ' ', 'l', 'i', 'g', 'h', 't', ' ', 'w', 'h', 'i', 'c', 'h', ' ', 't', 'r', 'a', 'v', 'e', 'l', 's', ' ', 'a', 't', ' ', 't', 'h', 'e', ' ', 'r', 'a', 't', 'e', ' ', 'o', 'f', ' ', 'm', 'i', 'l', 'e', 's', ' ', 'a', ' ', 's', 'e', 'c', 'o', 'n', 'd', ' ', 'w', 'o', 'u', 'l', 'd', ' ', 't', 'a', 'k', 'e', ' ', 'y', 'e', 'a', 'r', 's', ' ', 't', 'o', ' ', 't', 'r', 'a', 'v', 'e', 'l', ' ', 'f', 'r', 'o', 'm', ' ', 'o', 'n', 'e', ' ', 'e', 'n', 'd', ' ', 'o', 'f', ' ', 'i', 't', ' ', 't', 'o', ' ', 't', 'h', 'e', ' ', 'o', 't', 'h', 'e', 'r', ' ', 't', 'h', 'i', 's', ' ', 't', 'h', 'e', 'n', ' ', 'i', 's', ' ', 'w', 'h', 'a', 't', ' ', 'w', 'e', ' ', 'c', 'a', 'l', 'l', ' ', 'o', 'u', 'r', ' ', 'u', 'n', 'i', 'v', 'e', 'r', 's', 'e', ' ', 't', 'h', 'e', ' ', 'a', 's', 't', 'r', 'o', 'n', 'o', 'm', 'e', 'r', ' ', 'h', 'a', 's', ' ', 'd', 'i', 'v', 'i', 'd', 'e', 'd', ' ', 't', 'h', 'e', ' ', 's', 'u', 'n', ' ', 'i', 'n', 't', 'o', ' ', 'd', 'e', 'f', 'i', 'n', 'i', 't', 'e', ' ', 'c', 'o', 'n', 'c', 'e', 'n', 't', 'r', 'i', 'c', ' ', 'r', 'e', 'g', 'i', 'o', 'n', 's', ' ', 'o', 'r', ' ', 'l', 'a', 'y', 'e', 'r', 's', ' ', 't', 'h', 'e', 's', 'e', ' ', 'l', 'a', 'y', 'e', 'r', 's', ' ', 'e', 'n', 'v', 'e', 'l', 'o', 'p', ' ', 't', 'h', 'e', ' ', 'n', 'u', 'c', 'l', 'e', 'u', 's', ' ', 'o', 'r', ' ', 'c', 'e', 'n', 't', 'r', 'a', 'l', ' ', 'b', 'o', 'd', 'y', ' ', 'o', 'f', ' ', 't', 'h', 'e', ' ', 's', 'u', 'n', ' ', 's', 'o', 'm', 'e', 'w', 'h', 'a', 't', ' ', 'a', 's', ' ', 't', 'h', 'e', ' ', 'a', 't', 'm', 'o', 's', 'p', 'h', 'e', 'r', 'e', ' ', 'e', 'n', 'v', 'e', 'l', 'o', 'p', 's', ' ', 'o', 'u', 'r', ' ', 'e', 'a', 'r', 't', 'h', ' ', 'i', 't', ' ', 'i', 's', ' ', 't', 'h', 'r', 'o', 'u', 'g', 'h', ' ', 't', 'h', 'e', 's', 'e', ' ', 'v', 'a', 'p', 'o', 'u', 'r', ' ', 'l', 'a', 'y', 'e', 'r', 's', ' ', 't', 'h', 'a', 't', ' ', 't', 'h', 'e', ' ', 'b', 'r', 'i', 'g', 'h', 't', ' ', 'w', 'h', 'i', 't', 'e', ' ', 'b', 'o', 'd', 'y', ' ', 'o', 'f', ' ', 't', 'h', 'e', ' ', 's', 'u', 'n', ' ', 'i', 's', ' ', 's', 'e', 'e', 'n', ' ', 'o', 'f', ' ', 't', 'h', 'e', ' ', 'i', 'n', 'n', 'e', 'r', 'm', 'o', 's', 't', ' ', 'r', 'e', 'g', 'i', 'o', 'n', ' ', 't', 'h', 'e', ' ', 'h', 'e', 'a', 'r', 't', ' ', 'o', 'r', ' ', 'n', 'u', 'c', 'l', 'e', 'u', 's', ' ', 'o', 'f', ' ', 't', 'h', 'e', ' ', 's', 'u', 'n', ' ', 'w', 'e', ' ', 'k', 'n', 'o', 'w', ' ', 'a', 'l', 'm', 'o', 's', 't', ' ', 'n', 'o', 't', 'h', 'i', 'n', 'g', ' ', 't', 'h', 'e', ' ', 'c', 'e', 'n', 't', 'r', 'a', 'l', ' ', 'b', 'o', 'd', 'y', ' ', 'o', 'r', ' ', 'n', 'u', 'c', 'l', 'e', 'u', 's', ' ', 'i', 's', ' ', 's', 'u', 'r', 'r', 'o', 'u', 'n', 'd', 'e', 'd', ' ', 'b', 'y', ' ', 'a', ' ', 'b', 'r', 'i', 'l', 'l', 'i', 'a', 'n', 't', 'l', 'y', ' ', 'l', 'u', 'm', 'i', 'n', 'o', 'u', 's', ' ', 'e', 'n', 'v', 'e', 'l', 'o', 'p', 'e', ' ', 'o', 'r', ' ', 'l', 'a', 'y', 'e', 'r', ' ', 'o', 'f', ' ', 'v', 'a', 'p', 'o', 'r', 'o', 'u', 's', ' ', 'm', 'a', 't', 't', 'e', 'r', ' ', 'w', 'h', 'i', 'c', 'h', ' ', 'i', 's', ' ', 'w', 'h', 'a', 't', ' ', 'w', 'e', ' ', 's', 'e', 'e', ' ', 'w', 'h', 'e', 'n', ' ', 'w', 'e', ' ', 'l', 'o', 'o', 'k', ' ', 'a', 't', ' ', 't', 'h', 'e', ' ', 's', 'u', 'n', ' ', 'a', 'n', 'd', ' ', 'w', 'h', 'i', 'c', 'h', ' ', 't', 'h', 'e', ' ', 'a', 's', 't', 'r', 'o', 'n', 'o', 'm', 'e', 'r', ' ', 'c', 'a', 'l', 'l', 's', ' ', 't', 'h', 'e', ' ', 'p', 'h', 'o', 't', 'o', 's', 'p', 'h', 'e', 'r', 'e', ' ', 't', 'h', 'e', ' ', 's', 'u', 'n', ' ', 'w', 'h', 'a', 't', ' ', 'i', 's', ' ', 'i', 't', 's', ' ', 'c', 'o', 'm', 'p', 'o', 's', 'i', 't', 'i', 'o', 'n', ' ', 'w', 'e', ' ', 'k', 'n', 'o', 'w', ' ', 't', 'h', 'a', 't', ' ', 't', 'h', 'e', 'r', 'e', ' ', 'a', 'r', 'e', ' ', 'p', 'r', 'e', 's', 'e', 'n', 't', ' ', 'i', 'n', ' ', 'a', ' ', 'g', 'a', 's', 'e', 'o', 'u', 's', ' ', 's', 't', 'a', 't', 'e', ' ', 's', 'u', 'c', 'h', ' ', 'w', 'e', 'l', 'l', 'k', 'n', 'o', 'w', 'n', ' ', 'e', 'l', 'e', 'm', 'e', 'n', 't', 's', ' ', 'a', 's', ' ', 's', 'o', 'd', 'i', 'u', 'm', ' ', 'i', 'r', 'o', 'n', ' ', 'c', 'o', 'p', 'p', 'e', 'r', ' ', 'z', 'i', 'n', 'c', ' ', 'a', 'n', 'd', ' ', 'm', 'a', 'g', 'n', 'e', 's', 'i', 'u', 'm', ' ', 'i', 'n', 'd', 'e', 'e', 'd', ' ', 'w', 'e', ' ', 'k', 'n', 'o', 'w', ' ', 't', 'h', 'a', 't', ' ', 't', 'h', 'e', 'r', 'e', ' ', 'i', 's', ' ', 'p', 'r', 'a', 'c', 't', 'i', 'c', 'a', 'l', 'l', 'y', ' ', 'e', 'v', 'e', 'r', 'y', ' ', 'e', 'l', 'e', 'm', 'e', 'n', 't', ' ', 'i', 'n', ' ', 't', 'h', 'e', ' ', 's', 'u', 'n', ' ', 't', 'h', 'a', 't', ' ', 'w', 'e', ' ', 'k', 'n', 'o', 'w', ' ', 't', 'o', ' ', 'b', 'e', ' ', 'i', 'n', ' ', 't', 'h', 'e', ' ', 'e', 'a', 'r', 't', 'h', ' ', 'h', 'o', 'w', ' ', 'd', 'o', ' ', 'w', 'e', ' ', 'k', 'n', 'o', 'w', ' ', 'i', 's', ' ', 't', 'h', 'e', ' ', 's', 'u', 'n', ' ', 'd', 'y', 'i', 'n', 'g', ' ', 'f', 'i', 'g', ' ', 't', 'h', 'e', ' ', 'm', 'o', 'o', 'n', ' ', 'f', 'i', 'g', ' ', 'c', 'o', 'm', 'e', 't', ' ', 's', 'e', 'p', 't', 'e', 'm', 'b', 'e', 'r', ' ']"
   ]
  },
  {
   "cell_type": "code",
   "execution_count": null,
   "metadata": {},
   "outputs": [],
   "source": [
    "for character in x:\n",
    "    if character == ' ':\n",
    "        character = 'space'\n",
    "    print(character+ ' ' )"
   ]
  },
  {
   "cell_type": "code",
   "execution_count": null,
   "metadata": {},
   "outputs": [],
   "source": []
  }
 ],
 "metadata": {
  "kernelspec": {
   "display_name": "Python 3",
   "language": "python",
   "name": "python3"
  },
  "language_info": {
   "codemirror_mode": {
    "name": "ipython",
    "version": 3
   },
   "file_extension": ".py",
   "mimetype": "text/x-python",
   "name": "python",
   "nbconvert_exporter": "python",
   "pygments_lexer": "ipython3",
   "version": "3.6.8"
  }
 },
 "nbformat": 4,
 "nbformat_minor": 2
}
