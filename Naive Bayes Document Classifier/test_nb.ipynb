{
 "cells": [
  {
   "cell_type": "code",
   "execution_count": 1,
   "metadata": {},
   "outputs": [],
   "source": [
    "# TESTING classify.py"
   ]
  },
  {
   "cell_type": "code",
   "execution_count": 1,
   "metadata": {},
   "outputs": [],
   "source": [
    "from classify import *"
   ]
  },
  {
   "cell_type": "code",
   "execution_count": 3,
   "metadata": {},
   "outputs": [
    {
     "data": {
      "text/plain": [
       "True"
      ]
     },
     "execution_count": 3,
     "metadata": {},
     "output_type": "execute_result"
    }
   ],
   "source": [
    "create_vocabulary('./EasyFiles/', 1) == [',', '.', '19', '2020', 'a', 'cat', 'chases', 'dog', 'february', 'hello', 'is', 'it', 'world']"
   ]
  },
  {
   "cell_type": "code",
   "execution_count": null,
   "metadata": {},
   "outputs": [],
   "source": []
  },
  {
   "cell_type": "code",
   "execution_count": 5,
   "metadata": {},
   "outputs": [
    {
     "data": {
      "text/plain": [
       "True"
      ]
     },
     "execution_count": 5,
     "metadata": {},
     "output_type": "execute_result"
    }
   ],
   "source": [
    "create_vocabulary('./EasyFiles/', 2) == ['.', 'a']"
   ]
  },
  {
   "cell_type": "code",
   "execution_count": 8,
   "metadata": {},
   "outputs": [
    {
     "data": {
      "text/plain": [
       "{'a': 2, 'dog': 1, 'chases': 1, 'cat': 1, '.': 1}"
      ]
     },
     "execution_count": 8,
     "metadata": {},
     "output_type": "execute_result"
    }
   ],
   "source": [
    ">>> vocab = create_vocabulary('./EasyFiles/', 1)\n",
    ">>> create_bow(vocab, './EasyFiles/2016/1.txt')"
   ]
  },
  {
   "cell_type": "code",
   "execution_count": 9,
   "metadata": {},
   "outputs": [
    {
     "data": {
      "text/plain": [
       "{'it': 1, 'is': 1, 'february': 1, '19': 1, ',': 1, '2020': 1, '.': 1}"
      ]
     },
     "execution_count": 9,
     "metadata": {},
     "output_type": "execute_result"
    }
   ],
   "source": [
    ">>> create_bow(vocab, './EasyFiles/2020/2.txt')"
   ]
  },
  {
   "cell_type": "code",
   "execution_count": 10,
   "metadata": {},
   "outputs": [
    {
     "data": {
      "text/plain": [
       "{'a': 2, None: 3, '.': 1}"
      ]
     },
     "execution_count": 10,
     "metadata": {},
     "output_type": "execute_result"
    }
   ],
   "source": [
    " vocab = create_vocabulary('./EasyFiles/', 2)\n",
    ">>> create_bow(vocab, './EasyFiles/2016/1.txt')"
   ]
  },
  {
   "cell_type": "code",
   "execution_count": 13,
   "metadata": {},
   "outputs": [
    {
     "data": {
      "text/plain": [
       "[{'label': '2020',\n",
       "  'bow': {'it': 1,\n",
       "   'is': 1,\n",
       "   'february': 1,\n",
       "   '19': 1,\n",
       "   ',': 1,\n",
       "   '2020': 1,\n",
       "   '.': 1}},\n",
       " {'label': '2016', 'bow': {'hello': 1, 'world': 1}},\n",
       " {'label': '2016', 'bow': {'a': 2, 'dog': 1, 'chases': 1, 'cat': 1, '.': 1}}]"
      ]
     },
     "execution_count": 13,
     "metadata": {},
     "output_type": "execute_result"
    }
   ],
   "source": [
    ">>> vocab = create_vocabulary('./EasyFiles/', 1)\n",
    ">>> train_data = load_training_data(vocab,'./EasyFiles/')\n",
    "train_data"
   ]
  },
  {
   "cell_type": "code",
   "execution_count": 19,
   "metadata": {},
   "outputs": [],
   "source": [
    "assert (train_data == [{'label': '2020', 'bow': {'it': 1, 'is': 1, 'february': 1, '19': 1, ',': 1, '2020': 1, '.': 1}},\n",
    "    {'label': '2016', 'bow': {'hello': 1, 'world': 1}},\n",
    "    {'label': '2016', 'bow': {'a': 2, 'dog': 1, 'chases': 1, 'cat': 1, '.': 1}}])"
   ]
  },
  {
   "cell_type": "code",
   "execution_count": 20,
   "metadata": {},
   "outputs": [
    {
     "data": {
      "text/plain": [
       "{'2020': -0.32171182103809226, '2016': -1.2906462863976689}"
      ]
     },
     "execution_count": 20,
     "metadata": {},
     "output_type": "execute_result"
    }
   ],
   "source": [
    ">>> vocab = create_vocabulary('./corpus/training/', 2)\n",
    ">>> training_data = load_training_data(vocab,'./corpus/training/')\n",
    ">>> prior(training_data, ['2020', '2016'])"
   ]
  },
  {
   "cell_type": "code",
   "execution_count": 21,
   "metadata": {},
   "outputs": [
    {
     "data": {
      "text/plain": [
       "True"
      ]
     },
     "execution_count": 21,
     "metadata": {},
     "output_type": "execute_result"
    }
   ],
   "source": [
    "prior(training_data, ['2020', '2016']) == {'2020': -0.32171182103809226, '2016': -1.2906462863976689}\n"
   ]
  },
  {
   "cell_type": "code",
   "execution_count": 22,
   "metadata": {},
   "outputs": [
    {
     "data": {
      "text/plain": [
       "{',': -2.3513752571634776,\n",
       " '.': -2.3513752571634776,\n",
       " '19': -2.3513752571634776,\n",
       " '2020': -2.3513752571634776,\n",
       " 'a': -3.044522437723423,\n",
       " 'cat': -3.044522437723423,\n",
       " 'chases': -3.044522437723423,\n",
       " 'dog': -3.044522437723423,\n",
       " 'february': -2.3513752571634776,\n",
       " 'hello': -3.044522437723423,\n",
       " 'is': -2.3513752571634776,\n",
       " 'it': -2.3513752571634776,\n",
       " 'world': -3.044522437723423,\n",
       " None: -3.044522437723423}"
      ]
     },
     "execution_count": 22,
     "metadata": {},
     "output_type": "execute_result"
    }
   ],
   "source": [
    ">>> vocab = create_vocabulary('./EasyFiles/', 1)\n",
    ">>> training_data = load_training_data(vocab, './EasyFiles/')\n",
    ">>> p_word_given_label(vocab, training_data, '2020')"
   ]
  },
  {
   "cell_type": "code",
   "execution_count": 23,
   "metadata": {},
   "outputs": [
    {
     "data": {
      "text/plain": [
       "True"
      ]
     },
     "execution_count": 23,
     "metadata": {},
     "output_type": "execute_result"
    }
   ],
   "source": [
    "p_word_given_label(vocab, training_data, '2020') == {',': -2.3513752571634776, '.': -2.3513752571634776, '19': -2.3513752571634776, '2020': -2.3513752571634776, 'a': -3.044522437723423, 'cat': -3.044522437723423, 'chases': -3.044522437723423, 'dog': -3.044522437723423, 'february': -2.3513752571634776, 'hello': -3.044522437723423, 'is': -2.3513752571634776, 'it': -2.3513752571634776, 'world': -3.044522437723423, None: -3.044522437723423}"
   ]
  },
  {
   "cell_type": "code",
   "execution_count": 24,
   "metadata": {},
   "outputs": [
    {
     "data": {
      "text/plain": [
       "{',': -3.091042453358316,\n",
       " '.': -2.3978952727983707,\n",
       " '19': -3.091042453358316,\n",
       " '2020': -3.091042453358316,\n",
       " 'a': -1.9924301646902063,\n",
       " 'cat': -2.3978952727983707,\n",
       " 'chases': -2.3978952727983707,\n",
       " 'dog': -2.3978952727983707,\n",
       " 'february': -3.091042453358316,\n",
       " 'hello': -2.3978952727983707,\n",
       " 'is': -3.091042453358316,\n",
       " 'it': -3.091042453358316,\n",
       " 'world': -2.3978952727983707,\n",
       " None: -3.091042453358316}"
      ]
     },
     "execution_count": 24,
     "metadata": {},
     "output_type": "execute_result"
    }
   ],
   "source": [
    "p_word_given_label(vocab, training_data, '2016')"
   ]
  },
  {
   "cell_type": "code",
   "execution_count": 25,
   "metadata": {},
   "outputs": [
    {
     "data": {
      "text/plain": [
       "True"
      ]
     },
     "execution_count": 25,
     "metadata": {},
     "output_type": "execute_result"
    }
   ],
   "source": [
    "p_word_given_label(vocab, training_data, '2016') == {',': -3.091042453358316, '.': -2.3978952727983707, '19': -3.091042453358316, '2020': -3.091042453358316, 'a': -1.9924301646902063, 'cat': -2.3978952727983707, 'chases': -2.3978952727983707, 'dog': -2.3978952727983707, 'february': -3.091042453358316, 'hello': -2.3978952727983707, 'is': -3.091042453358316, 'it': -3.091042453358316, 'world': -2.3978952727983707, None: -3.091042453358316}"
   ]
  },
  {
   "cell_type": "code",
   "execution_count": 27,
   "metadata": {},
   "outputs": [
    {
     "data": {
      "text/plain": [
       "{'.': -1.6094379124341005, 'a': -2.302585092994046, None: -0.35667494393873267}"
      ]
     },
     "execution_count": 27,
     "metadata": {},
     "output_type": "execute_result"
    }
   ],
   "source": [
    ">>> vocab = create_vocabulary('./EasyFiles/', 2)\n",
    ">>> training_data = load_training_data(vocab, './EasyFiles/')\n",
    ">>> p_word_given_label(vocab, training_data, '2020')"
   ]
  },
  {
   "cell_type": "code",
   "execution_count": 28,
   "metadata": {},
   "outputs": [
    {
     "data": {
      "text/plain": [
       "True"
      ]
     },
     "execution_count": 28,
     "metadata": {},
     "output_type": "execute_result"
    }
   ],
   "source": [
    "p_word_given_label(vocab, training_data, '2020') == {'.': -1.6094379124341005, 'a': -2.302585092994046, None: -0.35667494393873267}"
   ]
  },
  {
   "cell_type": "code",
   "execution_count": 29,
   "metadata": {},
   "outputs": [
    {
     "data": {
      "text/plain": [
       "{'.': -1.7047480922384253, 'a': -1.2992829841302609, None: -0.6061358035703157}"
      ]
     },
     "execution_count": 29,
     "metadata": {},
     "output_type": "execute_result"
    }
   ],
   "source": [
    "p_word_given_label(vocab, training_data, '2016')"
   ]
  },
  {
   "cell_type": "code",
   "execution_count": 30,
   "metadata": {},
   "outputs": [
    {
     "data": {
      "text/plain": [
       "True"
      ]
     },
     "execution_count": 30,
     "metadata": {},
     "output_type": "execute_result"
    }
   ],
   "source": [
    "p_word_given_label(vocab, training_data, '2016') == {'.': -1.7047480922384253, 'a': -1.2992829841302609, None: -0.6061358035703157}"
   ]
  },
  {
   "cell_type": "code",
   "execution_count": 31,
   "metadata": {},
   "outputs": [
    {
     "data": {
      "text/plain": [
       "{'vocabulary': ['.', 'a'],\n",
       " 'log prior': {'2020': -0.916290731874155, '2016': -0.5108256237659905},\n",
       " 'log p(w|y=2020)': {'.': -1.6094379124341005,\n",
       "  'a': -2.302585092994046,\n",
       "  None: -0.35667494393873267},\n",
       " 'log p(w|y=2016)': {'.': -1.7047480922384253,\n",
       "  'a': -1.2992829841302609,\n",
       "  None: -0.6061358035703157}}"
      ]
     },
     "execution_count": 31,
     "metadata": {},
     "output_type": "execute_result"
    }
   ],
   "source": [
    ">>> train('./EasyFiles/', 2)"
   ]
  },
  {
   "cell_type": "code",
   "execution_count": 32,
   "metadata": {},
   "outputs": [
    {
     "data": {
      "text/plain": [
       "True"
      ]
     },
     "execution_count": 32,
     "metadata": {},
     "output_type": "execute_result"
    }
   ],
   "source": [
    " train('./EasyFiles/', 2) == {'vocabulary': ['.', 'a'],\n",
    "    'log prior': {'2020': -0.916290731874155, '2016': -0.5108256237659905},\n",
    "    'log p(w|y=2020)': {'.': -1.6094379124341005, 'a': -2.302585092994046, None: -0.35667494393873267},\n",
    "    'log p(w|y=2016)': {'.': -1.7047480922384253, 'a': -1.2992829841302609, None: -0.6061358035703157}}"
   ]
  },
  {
   "cell_type": "code",
   "execution_count": 33,
   "metadata": {},
   "outputs": [
    {
     "data": {
      "text/plain": [
       "{'log p(y=2020|x)': -3906.351945884105,\n",
       " 'log p(y=2016|x)': -3916.458747858926,\n",
       " 'predicted y': '2020'}"
      ]
     },
     "execution_count": 33,
     "metadata": {},
     "output_type": "execute_result"
    }
   ],
   "source": [
    ">>> model = train('./corpus/training/', 2)\n",
    ">>> classify(model, './corpus/test/2016/0.txt')"
   ]
  },
  {
   "cell_type": "code",
   "execution_count": 34,
   "metadata": {},
   "outputs": [
    {
     "data": {
      "text/plain": [
       "True"
      ]
     },
     "execution_count": 34,
     "metadata": {},
     "output_type": "execute_result"
    }
   ],
   "source": [
    "classify(model, './corpus/test/2016/0.txt') == {'log p(y=2020|x)': -3906.351945884105, 'log p(y=2016|x)': -3916.458747858926, 'predicted y': '2020'}"
   ]
  },
  {
   "cell_type": "code",
   "execution_count": null,
   "metadata": {},
   "outputs": [],
   "source": []
  }
 ],
 "metadata": {
  "kernelspec": {
   "display_name": "Python 3",
   "language": "python",
   "name": "python3"
  },
  "language_info": {
   "codemirror_mode": {
    "name": "ipython",
    "version": 3
   },
   "file_extension": ".py",
   "mimetype": "text/x-python",
   "name": "python",
   "nbconvert_exporter": "python",
   "pygments_lexer": "ipython3",
   "version": "3.8.5"
  }
 },
 "nbformat": 4,
 "nbformat_minor": 4
}
